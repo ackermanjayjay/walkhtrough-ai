{
  "nbformat": 4,
  "nbformat_minor": 0,
  "metadata": {
    "colab": {
      "provenance": []
    },
    "kernelspec": {
      "name": "python3",
      "display_name": "Python 3"
    },
    "language_info": {
      "name": "python"
    }
  },
  "cells": [
    {
      "cell_type": "markdown",
      "source": [
        "# Statistic in python\n"
      ],
      "metadata": {
        "id": "lhiqLdl0Rqvx"
      }
    },
    {
      "cell_type": "markdown",
      "source": [
        "Book [from](https://onlinestatbook.com/Online_Statistics_Education.pdf) "
      ],
      "metadata": {
        "id": "sbVTkvX7XNZj"
      }
    },
    {
      "cell_type": "markdown",
      "source": [
        "## Percentile"
      ],
      "metadata": {
        "id": "WY1Z07YAXCYH"
      }
    },
    {
      "cell_type": "markdown",
      "source": [
        "\\begin{align}\n",
        "        R= P/100 *(N+1)\n",
        "\\end{align}"
      ],
      "metadata": {
        "id": "hRWE9AG2OX8m"
      }
    },
    {
      "cell_type": "markdown",
      "source": [
        "$$ \n",
        "P:  percentile (25) \\\\\n",
        "N : Total data\n",
        "$$"
      ],
      "metadata": {
        "id": "MVAuW3hJZFsu"
      }
    },
    {
      "cell_type": "code",
      "source": [
        "import pandas as pd"
      ],
      "metadata": {
        "id": "0FkxO27dZeC8"
      },
      "execution_count": 1,
      "outputs": []
    },
    {
      "cell_type": "markdown",
      "source": [
        "## Excercise"
      ],
      "metadata": {
        "id": "ERSpsJd-6NZ4"
      }
    },
    {
      "cell_type": "code",
      "source": [
        "data={\n",
        "    \"Number\":[3,5,7,8,9,11,13,15],\n",
        "    \"Rank\":[1,2,3,4,5,6,7,8]\n",
        "}"
      ],
      "metadata": {
        "id": "u3yXY4x3Zlev"
      },
      "execution_count": 2,
      "outputs": []
    },
    {
      "cell_type": "code",
      "source": [
        "data=pd.DataFrame(data)"
      ],
      "metadata": {
        "id": "Cq8A5pnMZrxC"
      },
      "execution_count": 3,
      "outputs": []
    },
    {
      "cell_type": "code",
      "source": [
        "def percentile_formula(percentile=0,N=0):\n",
        "  R=percentile/100*(N+1)\n",
        "  return R"
      ],
      "metadata": {
        "id": "a9-SS6KBXGDW"
      },
      "execution_count": 4,
      "outputs": []
    },
    {
      "cell_type": "code",
      "source": [
        "print(f'Percentile 25 dari data :{percentile_formula(percentile=25,N=len(data[\"Rank\"]))}')"
      ],
      "metadata": {
        "colab": {
          "base_uri": "https://localhost:8080/"
        },
        "id": "Xi1A0KIsO1B5",
        "outputId": "dac3899a-7c01-4306-ffc6-26f7d4226687"
      },
      "execution_count": 5,
      "outputs": [
        {
          "output_type": "stream",
          "name": "stdout",
          "text": [
            "Percentile 25 dari data :2.25\n"
          ]
        }
      ]
    },
    {
      "cell_type": "markdown",
      "source": [
        "#Levels of Measurement"
      ],
      "metadata": {
        "id": "DZW4FDP0PtiR"
      }
    },
    {
      "cell_type": "markdown",
      "source": [
        "* ``Nominal Scales`` is Categorical\n",
        "* ``Ordinal scales`` like rating reviews\n",
        "* ``Interval scales`` like temperature $15-20^c $\n",
        "* ``Ratio scales`` like interval scale but with additional property example (25 cents, 55 cents, etc.)\n"
      ],
      "metadata": {
        "id": "6sZqe-PDP46R"
      }
    },
    {
      "cell_type": "markdown",
      "source": [
        "# Summation Notation\n"
      ],
      "metadata": {
        "id": "6aM2YXi_2JXr"
      }
    },
    {
      "cell_type": "markdown",
      "source": [
        "\\begin{align}\n",
        "        &\\sum_{i=1}^n X^i \n",
        "\\end{align}"
      ],
      "metadata": {
        "id": "qTYPfGCW2n-Y"
      }
    },
    {
      "cell_type": "code",
      "source": [
        "data_summa_notation={\n",
        "    \"Grape\":[v for v in range(1,5)],\n",
        "    \"X\":[4.6,5.1,4.9,4.4]\n",
        "}"
      ],
      "metadata": {
        "id": "oyb5KQlXPuL5"
      },
      "execution_count": 15,
      "outputs": []
    },
    {
      "cell_type": "code",
      "source": [
        "data_summa_notation"
      ],
      "metadata": {
        "colab": {
          "base_uri": "https://localhost:8080/"
        },
        "id": "6v1Zokog28WG",
        "outputId": "0dd1bf74-7e9f-4018-b0ae-942e7f7f6a12"
      },
      "execution_count": 16,
      "outputs": [
        {
          "output_type": "execute_result",
          "data": {
            "text/plain": [
              "{'Grape': [1, 2, 3, 4], 'X': [4.6, 5.1, 4.9, 4.4]}"
            ]
          },
          "metadata": {},
          "execution_count": 16
        }
      ]
    },
    {
      "cell_type": "code",
      "source": [
        "data_summa_not=pd.DataFrame(data_summa_notation)"
      ],
      "metadata": {
        "id": "MYrCYMCy29bO"
      },
      "execution_count": 17,
      "outputs": []
    },
    {
      "cell_type": "code",
      "source": [
        "data_summa_not.head()"
      ],
      "metadata": {
        "colab": {
          "base_uri": "https://localhost:8080/",
          "height": 175
        },
        "id": "vSxiwyRa3kp1",
        "outputId": "5d6b3428-d852-47a6-fcdb-c452427bea76"
      },
      "execution_count": 19,
      "outputs": [
        {
          "output_type": "execute_result",
          "data": {
            "text/plain": [
              "   Grape    X\n",
              "0      1  4.6\n",
              "1      2  5.1\n",
              "2      3  4.9\n",
              "3      4  4.4"
            ],
            "text/html": [
              "\n",
              "  <div id=\"df-a1f90dfe-73aa-4867-838a-085347aa9696\">\n",
              "    <div class=\"colab-df-container\">\n",
              "      <div>\n",
              "<style scoped>\n",
              "    .dataframe tbody tr th:only-of-type {\n",
              "        vertical-align: middle;\n",
              "    }\n",
              "\n",
              "    .dataframe tbody tr th {\n",
              "        vertical-align: top;\n",
              "    }\n",
              "\n",
              "    .dataframe thead th {\n",
              "        text-align: right;\n",
              "    }\n",
              "</style>\n",
              "<table border=\"1\" class=\"dataframe\">\n",
              "  <thead>\n",
              "    <tr style=\"text-align: right;\">\n",
              "      <th></th>\n",
              "      <th>Grape</th>\n",
              "      <th>X</th>\n",
              "    </tr>\n",
              "  </thead>\n",
              "  <tbody>\n",
              "    <tr>\n",
              "      <th>0</th>\n",
              "      <td>1</td>\n",
              "      <td>4.6</td>\n",
              "    </tr>\n",
              "    <tr>\n",
              "      <th>1</th>\n",
              "      <td>2</td>\n",
              "      <td>5.1</td>\n",
              "    </tr>\n",
              "    <tr>\n",
              "      <th>2</th>\n",
              "      <td>3</td>\n",
              "      <td>4.9</td>\n",
              "    </tr>\n",
              "    <tr>\n",
              "      <th>3</th>\n",
              "      <td>4</td>\n",
              "      <td>4.4</td>\n",
              "    </tr>\n",
              "  </tbody>\n",
              "</table>\n",
              "</div>\n",
              "      <button class=\"colab-df-convert\" onclick=\"convertToInteractive('df-a1f90dfe-73aa-4867-838a-085347aa9696')\"\n",
              "              title=\"Convert this dataframe to an interactive table.\"\n",
              "              style=\"display:none;\">\n",
              "        \n",
              "  <svg xmlns=\"http://www.w3.org/2000/svg\" height=\"24px\"viewBox=\"0 0 24 24\"\n",
              "       width=\"24px\">\n",
              "    <path d=\"M0 0h24v24H0V0z\" fill=\"none\"/>\n",
              "    <path d=\"M18.56 5.44l.94 2.06.94-2.06 2.06-.94-2.06-.94-.94-2.06-.94 2.06-2.06.94zm-11 1L8.5 8.5l.94-2.06 2.06-.94-2.06-.94L8.5 2.5l-.94 2.06-2.06.94zm10 10l.94 2.06.94-2.06 2.06-.94-2.06-.94-.94-2.06-.94 2.06-2.06.94z\"/><path d=\"M17.41 7.96l-1.37-1.37c-.4-.4-.92-.59-1.43-.59-.52 0-1.04.2-1.43.59L10.3 9.45l-7.72 7.72c-.78.78-.78 2.05 0 2.83L4 21.41c.39.39.9.59 1.41.59.51 0 1.02-.2 1.41-.59l7.78-7.78 2.81-2.81c.8-.78.8-2.07 0-2.86zM5.41 20L4 18.59l7.72-7.72 1.47 1.35L5.41 20z\"/>\n",
              "  </svg>\n",
              "      </button>\n",
              "      \n",
              "  <style>\n",
              "    .colab-df-container {\n",
              "      display:flex;\n",
              "      flex-wrap:wrap;\n",
              "      gap: 12px;\n",
              "    }\n",
              "\n",
              "    .colab-df-convert {\n",
              "      background-color: #E8F0FE;\n",
              "      border: none;\n",
              "      border-radius: 50%;\n",
              "      cursor: pointer;\n",
              "      display: none;\n",
              "      fill: #1967D2;\n",
              "      height: 32px;\n",
              "      padding: 0 0 0 0;\n",
              "      width: 32px;\n",
              "    }\n",
              "\n",
              "    .colab-df-convert:hover {\n",
              "      background-color: #E2EBFA;\n",
              "      box-shadow: 0px 1px 2px rgba(60, 64, 67, 0.3), 0px 1px 3px 1px rgba(60, 64, 67, 0.15);\n",
              "      fill: #174EA6;\n",
              "    }\n",
              "\n",
              "    [theme=dark] .colab-df-convert {\n",
              "      background-color: #3B4455;\n",
              "      fill: #D2E3FC;\n",
              "    }\n",
              "\n",
              "    [theme=dark] .colab-df-convert:hover {\n",
              "      background-color: #434B5C;\n",
              "      box-shadow: 0px 1px 3px 1px rgba(0, 0, 0, 0.15);\n",
              "      filter: drop-shadow(0px 1px 2px rgba(0, 0, 0, 0.3));\n",
              "      fill: #FFFFFF;\n",
              "    }\n",
              "  </style>\n",
              "\n",
              "      <script>\n",
              "        const buttonEl =\n",
              "          document.querySelector('#df-a1f90dfe-73aa-4867-838a-085347aa9696 button.colab-df-convert');\n",
              "        buttonEl.style.display =\n",
              "          google.colab.kernel.accessAllowed ? 'block' : 'none';\n",
              "\n",
              "        async function convertToInteractive(key) {\n",
              "          const element = document.querySelector('#df-a1f90dfe-73aa-4867-838a-085347aa9696');\n",
              "          const dataTable =\n",
              "            await google.colab.kernel.invokeFunction('convertToInteractive',\n",
              "                                                     [key], {});\n",
              "          if (!dataTable) return;\n",
              "\n",
              "          const docLinkHtml = 'Like what you see? Visit the ' +\n",
              "            '<a target=\"_blank\" href=https://colab.research.google.com/notebooks/data_table.ipynb>data table notebook</a>'\n",
              "            + ' to learn more about interactive tables.';\n",
              "          element.innerHTML = '';\n",
              "          dataTable['output_type'] = 'display_data';\n",
              "          await google.colab.output.renderOutput(dataTable, element);\n",
              "          const docLink = document.createElement('div');\n",
              "          docLink.innerHTML = docLinkHtml;\n",
              "          element.appendChild(docLink);\n",
              "        }\n",
              "      </script>\n",
              "    </div>\n",
              "  </div>\n",
              "  "
            ]
          },
          "metadata": {},
          "execution_count": 19
        }
      ]
    },
    {
      "cell_type": "markdown",
      "source": [
        "## Excercise"
      ],
      "metadata": {
        "id": "K76gb81I6KsH"
      }
    },
    {
      "cell_type": "markdown",
      "source": [
        "\\begin{align}\n",
        "  &\\text {Do it in python} : \n",
        "        &\\sum_{i=1}^4 X^i \\\\\n",
        "\\end{align}\n"
      ],
      "metadata": {
        "id": "phQB9UkZ3qSm"
      }
    },
    {
      "cell_type": "code",
      "source": [
        "def summa_not(df):\n",
        "  result=sum(df)\n",
        "  return result"
      ],
      "metadata": {
        "id": "oHBDCf-83l1u"
      },
      "execution_count": 28,
      "outputs": []
    },
    {
      "cell_type": "code",
      "source": [
        "summa_not(data_summa_not[\"X\"])"
      ],
      "metadata": {
        "colab": {
          "base_uri": "https://localhost:8080/"
        },
        "id": "pd1tv8ni4VHX",
        "outputId": "1dfe16b1-8934-4bbb-ad7f-7efbdee92f97"
      },
      "execution_count": 29,
      "outputs": [
        {
          "output_type": "execute_result",
          "data": {
            "text/plain": [
              "19.0"
            ]
          },
          "metadata": {},
          "execution_count": 29
        }
      ]
    },
    {
      "cell_type": "markdown",
      "source": [
        "\\begin{align}\n",
        "  &\\text {Do it in python} : \n",
        "        &\\sum X^2 \\\\\n",
        "\\end{align}\n"
      ],
      "metadata": {
        "id": "C65veIjx6Ipz"
      }
    },
    {
      "cell_type": "code",
      "source": [
        "def summa_not_power_basis_two(df):\n",
        "  result=sum(df**2)\n",
        "  return result"
      ],
      "metadata": {
        "id": "MubFNkre6VrO"
      },
      "execution_count": 31,
      "outputs": []
    },
    {
      "cell_type": "code",
      "source": [
        "summa_not_power_basis_two(data_summa_not[\"X\"])"
      ],
      "metadata": {
        "colab": {
          "base_uri": "https://localhost:8080/"
        },
        "id": "U7Nf3rU76ew2",
        "outputId": "4d1efa64-7a57-4248-8452-ce55df353d34"
      },
      "execution_count": 32,
      "outputs": [
        {
          "output_type": "execute_result",
          "data": {
            "text/plain": [
              "90.54"
            ]
          },
          "metadata": {},
          "execution_count": 32
        }
      ]
    }
  ]
}