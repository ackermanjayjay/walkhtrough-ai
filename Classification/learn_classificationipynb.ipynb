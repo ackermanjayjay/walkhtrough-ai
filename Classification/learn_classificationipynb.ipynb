{
  "nbformat": 4,
  "nbformat_minor": 0,
  "metadata": {
    "colab": {
      "provenance": []
    },
    "kernelspec": {
      "name": "python3",
      "display_name": "Python 3"
    },
    "language_info": {
      "name": "python"
    }
  },
  "cells": [
    {
      "cell_type": "code",
      "execution_count": 235,
      "metadata": {
        "id": "fHK8Upb1USlz"
      },
      "outputs": [],
      "source": [
        "import pandas as pd\n",
        "import numpy as np"
      ]
    },
    {
      "cell_type": "code",
      "source": [
        "data_customer=pd.read_csv(\"/content/Customers.csv\")"
      ],
      "metadata": {
        "id": "VNeXgBYAUZLL"
      },
      "execution_count": 236,
      "outputs": []
    },
    {
      "cell_type": "code",
      "source": [
        "data_customer.head()"
      ],
      "metadata": {
        "colab": {
          "base_uri": "https://localhost:8080/",
          "height": 206
        },
        "id": "IL_A4ur5b_Cn",
        "outputId": "c495afdd-32ce-4f6f-fe70-d87daca6da81"
      },
      "execution_count": 237,
      "outputs": [
        {
          "output_type": "execute_result",
          "data": {
            "text/plain": [
              "   CustomerID  Gender  Age  Annual Income ($)  Spending Score (1-100)  \\\n",
              "0           1    Male   19              15000                      39   \n",
              "1           2    Male   21              35000                      81   \n",
              "2           3  Female   20              86000                       6   \n",
              "3           4  Female   23              59000                      77   \n",
              "4           5  Female   31              38000                      40   \n",
              "\n",
              "      Profession  Work Experience  Family Size  \n",
              "0     Healthcare                1            4  \n",
              "1       Engineer                3            3  \n",
              "2       Engineer                1            1  \n",
              "3         Lawyer                0            2  \n",
              "4  Entertainment                2            6  "
            ],
            "text/html": [
              "\n",
              "  <div id=\"df-fd568262-b33d-4af7-9ff5-409b1da4cba4\">\n",
              "    <div class=\"colab-df-container\">\n",
              "      <div>\n",
              "<style scoped>\n",
              "    .dataframe tbody tr th:only-of-type {\n",
              "        vertical-align: middle;\n",
              "    }\n",
              "\n",
              "    .dataframe tbody tr th {\n",
              "        vertical-align: top;\n",
              "    }\n",
              "\n",
              "    .dataframe thead th {\n",
              "        text-align: right;\n",
              "    }\n",
              "</style>\n",
              "<table border=\"1\" class=\"dataframe\">\n",
              "  <thead>\n",
              "    <tr style=\"text-align: right;\">\n",
              "      <th></th>\n",
              "      <th>CustomerID</th>\n",
              "      <th>Gender</th>\n",
              "      <th>Age</th>\n",
              "      <th>Annual Income ($)</th>\n",
              "      <th>Spending Score (1-100)</th>\n",
              "      <th>Profession</th>\n",
              "      <th>Work Experience</th>\n",
              "      <th>Family Size</th>\n",
              "    </tr>\n",
              "  </thead>\n",
              "  <tbody>\n",
              "    <tr>\n",
              "      <th>0</th>\n",
              "      <td>1</td>\n",
              "      <td>Male</td>\n",
              "      <td>19</td>\n",
              "      <td>15000</td>\n",
              "      <td>39</td>\n",
              "      <td>Healthcare</td>\n",
              "      <td>1</td>\n",
              "      <td>4</td>\n",
              "    </tr>\n",
              "    <tr>\n",
              "      <th>1</th>\n",
              "      <td>2</td>\n",
              "      <td>Male</td>\n",
              "      <td>21</td>\n",
              "      <td>35000</td>\n",
              "      <td>81</td>\n",
              "      <td>Engineer</td>\n",
              "      <td>3</td>\n",
              "      <td>3</td>\n",
              "    </tr>\n",
              "    <tr>\n",
              "      <th>2</th>\n",
              "      <td>3</td>\n",
              "      <td>Female</td>\n",
              "      <td>20</td>\n",
              "      <td>86000</td>\n",
              "      <td>6</td>\n",
              "      <td>Engineer</td>\n",
              "      <td>1</td>\n",
              "      <td>1</td>\n",
              "    </tr>\n",
              "    <tr>\n",
              "      <th>3</th>\n",
              "      <td>4</td>\n",
              "      <td>Female</td>\n",
              "      <td>23</td>\n",
              "      <td>59000</td>\n",
              "      <td>77</td>\n",
              "      <td>Lawyer</td>\n",
              "      <td>0</td>\n",
              "      <td>2</td>\n",
              "    </tr>\n",
              "    <tr>\n",
              "      <th>4</th>\n",
              "      <td>5</td>\n",
              "      <td>Female</td>\n",
              "      <td>31</td>\n",
              "      <td>38000</td>\n",
              "      <td>40</td>\n",
              "      <td>Entertainment</td>\n",
              "      <td>2</td>\n",
              "      <td>6</td>\n",
              "    </tr>\n",
              "  </tbody>\n",
              "</table>\n",
              "</div>\n",
              "      <button class=\"colab-df-convert\" onclick=\"convertToInteractive('df-fd568262-b33d-4af7-9ff5-409b1da4cba4')\"\n",
              "              title=\"Convert this dataframe to an interactive table.\"\n",
              "              style=\"display:none;\">\n",
              "        \n",
              "  <svg xmlns=\"http://www.w3.org/2000/svg\" height=\"24px\"viewBox=\"0 0 24 24\"\n",
              "       width=\"24px\">\n",
              "    <path d=\"M0 0h24v24H0V0z\" fill=\"none\"/>\n",
              "    <path d=\"M18.56 5.44l.94 2.06.94-2.06 2.06-.94-2.06-.94-.94-2.06-.94 2.06-2.06.94zm-11 1L8.5 8.5l.94-2.06 2.06-.94-2.06-.94L8.5 2.5l-.94 2.06-2.06.94zm10 10l.94 2.06.94-2.06 2.06-.94-2.06-.94-.94-2.06-.94 2.06-2.06.94z\"/><path d=\"M17.41 7.96l-1.37-1.37c-.4-.4-.92-.59-1.43-.59-.52 0-1.04.2-1.43.59L10.3 9.45l-7.72 7.72c-.78.78-.78 2.05 0 2.83L4 21.41c.39.39.9.59 1.41.59.51 0 1.02-.2 1.41-.59l7.78-7.78 2.81-2.81c.8-.78.8-2.07 0-2.86zM5.41 20L4 18.59l7.72-7.72 1.47 1.35L5.41 20z\"/>\n",
              "  </svg>\n",
              "      </button>\n",
              "      \n",
              "  <style>\n",
              "    .colab-df-container {\n",
              "      display:flex;\n",
              "      flex-wrap:wrap;\n",
              "      gap: 12px;\n",
              "    }\n",
              "\n",
              "    .colab-df-convert {\n",
              "      background-color: #E8F0FE;\n",
              "      border: none;\n",
              "      border-radius: 50%;\n",
              "      cursor: pointer;\n",
              "      display: none;\n",
              "      fill: #1967D2;\n",
              "      height: 32px;\n",
              "      padding: 0 0 0 0;\n",
              "      width: 32px;\n",
              "    }\n",
              "\n",
              "    .colab-df-convert:hover {\n",
              "      background-color: #E2EBFA;\n",
              "      box-shadow: 0px 1px 2px rgba(60, 64, 67, 0.3), 0px 1px 3px 1px rgba(60, 64, 67, 0.15);\n",
              "      fill: #174EA6;\n",
              "    }\n",
              "\n",
              "    [theme=dark] .colab-df-convert {\n",
              "      background-color: #3B4455;\n",
              "      fill: #D2E3FC;\n",
              "    }\n",
              "\n",
              "    [theme=dark] .colab-df-convert:hover {\n",
              "      background-color: #434B5C;\n",
              "      box-shadow: 0px 1px 3px 1px rgba(0, 0, 0, 0.15);\n",
              "      filter: drop-shadow(0px 1px 2px rgba(0, 0, 0, 0.3));\n",
              "      fill: #FFFFFF;\n",
              "    }\n",
              "  </style>\n",
              "\n",
              "      <script>\n",
              "        const buttonEl =\n",
              "          document.querySelector('#df-fd568262-b33d-4af7-9ff5-409b1da4cba4 button.colab-df-convert');\n",
              "        buttonEl.style.display =\n",
              "          google.colab.kernel.accessAllowed ? 'block' : 'none';\n",
              "\n",
              "        async function convertToInteractive(key) {\n",
              "          const element = document.querySelector('#df-fd568262-b33d-4af7-9ff5-409b1da4cba4');\n",
              "          const dataTable =\n",
              "            await google.colab.kernel.invokeFunction('convertToInteractive',\n",
              "                                                     [key], {});\n",
              "          if (!dataTable) return;\n",
              "\n",
              "          const docLinkHtml = 'Like what you see? Visit the ' +\n",
              "            '<a target=\"_blank\" href=https://colab.research.google.com/notebooks/data_table.ipynb>data table notebook</a>'\n",
              "            + ' to learn more about interactive tables.';\n",
              "          element.innerHTML = '';\n",
              "          dataTable['output_type'] = 'display_data';\n",
              "          await google.colab.output.renderOutput(dataTable, element);\n",
              "          const docLink = document.createElement('div');\n",
              "          docLink.innerHTML = docLinkHtml;\n",
              "          element.appendChild(docLink);\n",
              "        }\n",
              "      </script>\n",
              "    </div>\n",
              "  </div>\n",
              "  "
            ]
          },
          "metadata": {},
          "execution_count": 237
        }
      ]
    },
    {
      "cell_type": "markdown",
      "source": [
        "## Eda"
      ],
      "metadata": {
        "id": "-N4z0oWccInd"
      }
    },
    {
      "cell_type": "code",
      "source": [
        "data_customer.isnull().sum()"
      ],
      "metadata": {
        "colab": {
          "base_uri": "https://localhost:8080/"
        },
        "id": "13tgmLR76Sqh",
        "outputId": "23c530fc-dabb-4628-a1a2-6b4e8b6dd330"
      },
      "execution_count": 238,
      "outputs": [
        {
          "output_type": "execute_result",
          "data": {
            "text/plain": [
              "CustomerID                 0\n",
              "Gender                     0\n",
              "Age                        0\n",
              "Annual Income ($)          0\n",
              "Spending Score (1-100)     0\n",
              "Profession                35\n",
              "Work Experience            0\n",
              "Family Size                0\n",
              "dtype: int64"
            ]
          },
          "metadata": {},
          "execution_count": 238
        }
      ]
    },
    {
      "cell_type": "code",
      "source": [
        "data_customer.dropna(inplace=True)"
      ],
      "metadata": {
        "id": "BDdsDdOk6Vjp"
      },
      "execution_count": 239,
      "outputs": []
    },
    {
      "cell_type": "code",
      "source": [
        "# Check How many gender Male and Female\n",
        "data_gender=data_customer[\"Gender\"].value_counts()"
      ],
      "metadata": {
        "id": "Tqhui3VacAbX"
      },
      "execution_count": 240,
      "outputs": []
    },
    {
      "cell_type": "code",
      "source": [
        "data_gender"
      ],
      "metadata": {
        "colab": {
          "base_uri": "https://localhost:8080/"
        },
        "id": "4WwALDvKcN0_",
        "outputId": "fd52b61e-3b42-4621-fa6e-d6719724fa72"
      },
      "execution_count": 241,
      "outputs": [
        {
          "output_type": "execute_result",
          "data": {
            "text/plain": [
              "Female    1166\n",
              "Male       799\n",
              "Name: Gender, dtype: int64"
            ]
          },
          "metadata": {},
          "execution_count": 241
        }
      ]
    },
    {
      "cell_type": "markdown",
      "source": [
        "Gender :\n",
        "* Female total 1186\n",
        "* Male total 814"
      ],
      "metadata": {
        "id": "lv0idheFcei-"
      }
    },
    {
      "cell_type": "markdown",
      "source": [
        "### Search Profession by gender"
      ],
      "metadata": {
        "id": "2etWx5Zbmt9X"
      }
    },
    {
      "cell_type": "code",
      "source": [
        "data_worker=data_customer[[\"Gender\",\"Work Experience\",\"Profession\"]]"
      ],
      "metadata": {
        "id": "uxsYXM6McjH_"
      },
      "execution_count": 242,
      "outputs": []
    },
    {
      "cell_type": "code",
      "source": [
        "import plotly.express as px"
      ],
      "metadata": {
        "id": "22JQ3cTwjlLy"
      },
      "execution_count": 243,
      "outputs": []
    },
    {
      "cell_type": "code",
      "source": [
        "fig = px.bar(data_worker,y=\"Work Experience\",x=\"Profession\",\n",
        "             color=\"Gender\")\n",
        "fig.show()"
      ],
      "metadata": {
        "colab": {
          "base_uri": "https://localhost:8080/",
          "height": 542
        },
        "id": "DITRhyOmjweN",
        "outputId": "f5a81678-553c-4a92-e47e-d0b3fd98ef6e"
      },
      "execution_count": 244,
      "outputs": [
        {
          "output_type": "display_data",
          "data": {
            "text/html": [
              "<html>\n",
              "<head><meta charset=\"utf-8\" /></head>\n",
              "<body>\n",
              "    <div>            <script src=\"https://cdnjs.cloudflare.com/ajax/libs/mathjax/2.7.5/MathJax.js?config=TeX-AMS-MML_SVG\"></script><script type=\"text/javascript\">if (window.MathJax) {MathJax.Hub.Config({SVG: {font: \"STIX-Web\"}});}</script>                <script type=\"text/javascript\">window.PlotlyConfig = {MathJaxConfig: 'local'};</script>\n",
              "        <script src=\"https://cdn.plot.ly/plotly-2.8.3.min.js\"></script>                <div id=\"edaf44c5-b5a8-483e-8a59-e565dca8ac43\" class=\"plotly-graph-div\" style=\"height:525px; width:100%;\"></div>            <script type=\"text/javascript\">                                    window.PLOTLYENV=window.PLOTLYENV || {};                                    if (document.getElementById(\"edaf44c5-b5a8-483e-8a59-e565dca8ac43\")) {                    Plotly.newPlot(                        \"edaf44c5-b5a8-483e-8a59-e565dca8ac43\",                        [{\"alignmentgroup\":\"True\",\"hovertemplate\":\"Gender=Male<br>Profession=%{x}<br>Work Experience=%{y}<extra></extra>\",\"legendgroup\":\"Male\",\"marker\":{\"color\":\"#636efa\",\"pattern\":{\"shape\":\"\"}},\"name\":\"Male\",\"offsetgroup\":\"Male\",\"orientation\":\"v\",\"showlegend\":true,\"textposition\":\"auto\",\"x\":[\"Healthcare\",\"Engineer\",\"Engineer\",\"Engineer\",\"Doctor\",\"Healthcare\",\"Healthcare\",\"Entertainment\",\"Homemaker\",\"Healthcare\",\"Artist\",\"Artist\",\"Artist\",\"Artist\",\"Healthcare\",\"Homemaker\",\"Healthcare\",\"Artist\",\"Artist\",\"Entertainment\",\"Artist\",\"Doctor\",\"Lawyer\",\"Artist\",\"Artist\",\"Lawyer\",\"Entertainment\",\"Artist\",\"Healthcare\",\"Artist\",\"Homemaker\",\"Artist\",\"Healthcare\",\"Healthcare\",\"Artist\",\"Healthcare\",\"Artist\",\"Artist\",\"Artist\",\"Doctor\",\"Engineer\",\"Artist\",\"Executive\",\"Healthcare\",\"Lawyer\",\"Healthcare\",\"Healthcare\",\"Entertainment\",\"Artist\",\"Executive\",\"Healthcare\",\"Engineer\",\"Artist\",\"Engineer\",\"Entertainment\",\"Executive\",\"Lawyer\",\"Engineer\",\"Artist\",\"Marketing\",\"Artist\",\"Engineer\",\"Marketing\",\"Engineer\",\"Artist\",\"Lawyer\",\"Engineer\",\"Executive\",\"Lawyer\",\"Executive\",\"Doctor\",\"Homemaker\",\"Artist\",\"Artist\",\"Executive\",\"Lawyer\",\"Artist\",\"Engineer\",\"Healthcare\",\"Healthcare\",\"Engineer\",\"Artist\",\"Artist\",\"Doctor\",\"Executive\",\"Artist\",\"Executive\",\"Artist\",\"Healthcare\",\"Artist\",\"Marketing\",\"Lawyer\",\"Doctor\",\"Doctor\",\"Artist\",\"Healthcare\",\"Marketing\",\"Healthcare\",\"Healthcare\",\"Healthcare\",\"Lawyer\",\"Executive\",\"Doctor\",\"Engineer\",\"Lawyer\",\"Executive\",\"Homemaker\",\"Executive\",\"Entertainment\",\"Entertainment\",\"Lawyer\",\"Executive\",\"Artist\",\"Healthcare\",\"Artist\",\"Entertainment\",\"Artist\",\"Doctor\",\"Artist\",\"Entertainment\",\"Entertainment\",\"Healthcare\",\"Engineer\",\"Executive\",\"Doctor\",\"Lawyer\",\"Artist\",\"Marketing\",\"Engineer\",\"Lawyer\",\"Doctor\",\"Artist\",\"Engineer\",\"Engineer\",\"Healthcare\",\"Artist\",\"Entertainment\",\"Artist\",\"Engineer\",\"Healthcare\",\"Engineer\",\"Marketing\",\"Healthcare\",\"Artist\",\"Entertainment\",\"Artist\",\"Healthcare\",\"Healthcare\",\"Artist\",\"Doctor\",\"Artist\",\"Artist\",\"Artist\",\"Engineer\",\"Artist\",\"Artist\",\"Doctor\",\"Artist\",\"Lawyer\",\"Executive\",\"Artist\",\"Doctor\",\"Doctor\",\"Engineer\",\"Executive\",\"Healthcare\",\"Healthcare\",\"Entertainment\",\"Marketing\",\"Healthcare\",\"Artist\",\"Entertainment\",\"Doctor\",\"Entertainment\",\"Engineer\",\"Healthcare\",\"Executive\",\"Engineer\",\"Entertainment\",\"Artist\",\"Artist\",\"Artist\",\"Engineer\",\"Healthcare\",\"Healthcare\",\"Engineer\",\"Artist\",\"Marketing\",\"Artist\",\"Marketing\",\"Doctor\",\"Healthcare\",\"Homemaker\",\"Artist\",\"Healthcare\",\"Artist\",\"Artist\",\"Lawyer\",\"Healthcare\",\"Entertainment\",\"Healthcare\",\"Homemaker\",\"Artist\",\"Artist\",\"Homemaker\",\"Artist\",\"Healthcare\",\"Healthcare\",\"Marketing\",\"Healthcare\",\"Artist\",\"Entertainment\",\"Healthcare\",\"Artist\",\"Doctor\",\"Artist\",\"Doctor\",\"Doctor\",\"Engineer\",\"Artist\",\"Executive\",\"Engineer\",\"Marketing\",\"Artist\",\"Engineer\",\"Artist\",\"Artist\",\"Healthcare\",\"Artist\",\"Artist\",\"Engineer\",\"Artist\",\"Lawyer\",\"Artist\",\"Artist\",\"Executive\",\"Entertainment\",\"Entertainment\",\"Healthcare\",\"Doctor\",\"Artist\",\"Artist\",\"Engineer\",\"Healthcare\",\"Lawyer\",\"Marketing\",\"Entertainment\",\"Healthcare\",\"Artist\",\"Healthcare\",\"Lawyer\",\"Artist\",\"Artist\",\"Artist\",\"Healthcare\",\"Entertainment\",\"Executive\",\"Marketing\",\"Artist\",\"Artist\",\"Executive\",\"Doctor\",\"Marketing\",\"Artist\",\"Marketing\",\"Doctor\",\"Artist\",\"Entertainment\",\"Artist\",\"Entertainment\",\"Executive\",\"Artist\",\"Doctor\",\"Entertainment\",\"Healthcare\",\"Artist\",\"Executive\",\"Healthcare\",\"Entertainment\",\"Artist\",\"Executive\",\"Homemaker\",\"Entertainment\",\"Doctor\",\"Executive\",\"Entertainment\",\"Executive\",\"Engineer\",\"Healthcare\",\"Artist\",\"Entertainment\",\"Healthcare\",\"Healthcare\",\"Healthcare\",\"Engineer\",\"Engineer\",\"Healthcare\",\"Entertainment\",\"Artist\",\"Artist\",\"Healthcare\",\"Healthcare\",\"Engineer\",\"Artist\",\"Lawyer\",\"Artist\",\"Entertainment\",\"Healthcare\",\"Engineer\",\"Entertainment\",\"Artist\",\"Entertainment\",\"Entertainment\",\"Engineer\",\"Marketing\",\"Entertainment\",\"Engineer\",\"Artist\",\"Artist\",\"Entertainment\",\"Executive\",\"Artist\",\"Executive\",\"Entertainment\",\"Executive\",\"Entertainment\",\"Doctor\",\"Homemaker\",\"Entertainment\",\"Engineer\",\"Artist\",\"Artist\",\"Marketing\",\"Healthcare\",\"Artist\",\"Doctor\",\"Healthcare\",\"Entertainment\",\"Lawyer\",\"Engineer\",\"Marketing\",\"Healthcare\",\"Artist\",\"Engineer\",\"Entertainment\",\"Artist\",\"Artist\",\"Executive\",\"Artist\",\"Artist\",\"Entertainment\",\"Lawyer\",\"Lawyer\",\"Healthcare\",\"Lawyer\",\"Doctor\",\"Marketing\",\"Artist\",\"Healthcare\",\"Engineer\",\"Artist\",\"Artist\",\"Lawyer\",\"Artist\",\"Artist\",\"Healthcare\",\"Entertainment\",\"Engineer\",\"Healthcare\",\"Artist\",\"Artist\",\"Entertainment\",\"Doctor\",\"Entertainment\",\"Healthcare\",\"Engineer\",\"Artist\",\"Lawyer\",\"Healthcare\",\"Engineer\",\"Healthcare\",\"Artist\",\"Engineer\",\"Entertainment\",\"Doctor\",\"Lawyer\",\"Healthcare\",\"Executive\",\"Artist\",\"Artist\",\"Doctor\",\"Healthcare\",\"Artist\",\"Entertainment\",\"Healthcare\",\"Lawyer\",\"Healthcare\",\"Artist\",\"Healthcare\",\"Entertainment\",\"Artist\",\"Healthcare\",\"Healthcare\",\"Entertainment\",\"Engineer\",\"Artist\",\"Doctor\",\"Artist\",\"Artist\",\"Healthcare\",\"Engineer\",\"Entertainment\",\"Artist\",\"Healthcare\",\"Entertainment\",\"Engineer\",\"Entertainment\",\"Entertainment\",\"Doctor\",\"Healthcare\",\"Doctor\",\"Artist\",\"Marketing\",\"Doctor\",\"Artist\",\"Entertainment\",\"Artist\",\"Healthcare\",\"Entertainment\",\"Entertainment\",\"Entertainment\",\"Engineer\",\"Engineer\",\"Entertainment\",\"Healthcare\",\"Engineer\",\"Doctor\",\"Artist\",\"Artist\",\"Entertainment\",\"Engineer\",\"Artist\",\"Lawyer\",\"Engineer\",\"Executive\",\"Artist\",\"Healthcare\",\"Artist\",\"Artist\",\"Lawyer\",\"Healthcare\",\"Entertainment\",\"Entertainment\",\"Marketing\",\"Artist\",\"Lawyer\",\"Healthcare\",\"Engineer\",\"Doctor\",\"Healthcare\",\"Artist\",\"Entertainment\",\"Executive\",\"Artist\",\"Engineer\",\"Lawyer\",\"Healthcare\",\"Artist\",\"Artist\",\"Artist\",\"Artist\",\"Executive\",\"Artist\",\"Healthcare\",\"Doctor\",\"Artist\",\"Entertainment\",\"Artist\",\"Artist\",\"Healthcare\",\"Lawyer\",\"Artist\",\"Homemaker\",\"Healthcare\",\"Artist\",\"Doctor\",\"Entertainment\",\"Doctor\",\"Artist\",\"Executive\",\"Doctor\",\"Engineer\",\"Engineer\",\"Artist\",\"Homemaker\",\"Healthcare\",\"Artist\",\"Lawyer\",\"Artist\",\"Entertainment\",\"Doctor\",\"Engineer\",\"Engineer\",\"Healthcare\",\"Artist\",\"Executive\",\"Artist\",\"Entertainment\",\"Artist\",\"Artist\",\"Lawyer\",\"Artist\",\"Doctor\",\"Doctor\",\"Artist\",\"Lawyer\",\"Healthcare\",\"Entertainment\",\"Doctor\",\"Entertainment\",\"Artist\",\"Artist\",\"Executive\",\"Artist\",\"Artist\",\"Homemaker\",\"Lawyer\",\"Artist\",\"Doctor\",\"Healthcare\",\"Executive\",\"Entertainment\",\"Entertainment\",\"Healthcare\",\"Artist\",\"Engineer\",\"Lawyer\",\"Entertainment\",\"Artist\",\"Healthcare\",\"Healthcare\",\"Healthcare\",\"Doctor\",\"Lawyer\",\"Lawyer\",\"Artist\",\"Artist\",\"Engineer\",\"Doctor\",\"Artist\",\"Artist\",\"Entertainment\",\"Artist\",\"Lawyer\",\"Healthcare\",\"Healthcare\",\"Artist\",\"Executive\",\"Healthcare\",\"Artist\",\"Artist\",\"Entertainment\",\"Engineer\",\"Healthcare\",\"Executive\",\"Executive\",\"Doctor\",\"Marketing\",\"Doctor\",\"Entertainment\",\"Healthcare\",\"Artist\",\"Artist\",\"Artist\",\"Artist\",\"Healthcare\",\"Artist\",\"Executive\",\"Entertainment\",\"Artist\",\"Artist\",\"Executive\",\"Artist\",\"Lawyer\",\"Executive\",\"Entertainment\",\"Artist\",\"Doctor\",\"Healthcare\",\"Entertainment\",\"Doctor\",\"Doctor\",\"Doctor\",\"Entertainment\",\"Executive\",\"Healthcare\",\"Engineer\",\"Artist\",\"Homemaker\",\"Artist\",\"Entertainment\",\"Lawyer\",\"Healthcare\",\"Healthcare\",\"Doctor\",\"Engineer\",\"Entertainment\",\"Executive\",\"Entertainment\",\"Lawyer\",\"Doctor\",\"Lawyer\",\"Marketing\",\"Marketing\",\"Marketing\",\"Artist\",\"Marketing\",\"Healthcare\",\"Engineer\",\"Artist\",\"Healthcare\",\"Healthcare\",\"Artist\",\"Artist\",\"Artist\",\"Engineer\",\"Engineer\",\"Entertainment\",\"Homemaker\",\"Entertainment\",\"Entertainment\",\"Artist\",\"Entertainment\",\"Healthcare\",\"Healthcare\",\"Entertainment\",\"Artist\",\"Lawyer\",\"Executive\",\"Artist\",\"Healthcare\",\"Entertainment\",\"Doctor\",\"Healthcare\",\"Healthcare\",\"Healthcare\",\"Doctor\",\"Lawyer\",\"Doctor\",\"Healthcare\",\"Homemaker\",\"Artist\",\"Entertainment\",\"Executive\",\"Entertainment\",\"Healthcare\",\"Marketing\",\"Homemaker\",\"Artist\",\"Doctor\",\"Lawyer\",\"Artist\",\"Homemaker\",\"Lawyer\",\"Artist\",\"Entertainment\",\"Executive\",\"Artist\",\"Doctor\",\"Healthcare\",\"Healthcare\",\"Entertainment\",\"Artist\",\"Executive\",\"Artist\",\"Artist\",\"Artist\",\"Lawyer\",\"Executive\",\"Healthcare\",\"Artist\",\"Artist\",\"Healthcare\",\"Doctor\",\"Engineer\",\"Artist\",\"Artist\",\"Artist\",\"Doctor\",\"Artist\",\"Doctor\",\"Lawyer\",\"Entertainment\",\"Healthcare\",\"Executive\",\"Artist\",\"Healthcare\",\"Executive\",\"Artist\",\"Artist\",\"Artist\",\"Executive\",\"Doctor\",\"Artist\",\"Artist\",\"Healthcare\",\"Engineer\",\"Lawyer\",\"Executive\",\"Engineer\",\"Engineer\",\"Artist\",\"Lawyer\",\"Artist\",\"Marketing\",\"Healthcare\",\"Executive\",\"Healthcare\",\"Artist\",\"Executive\",\"Artist\",\"Lawyer\",\"Artist\",\"Doctor\",\"Lawyer\",\"Healthcare\",\"Healthcare\",\"Healthcare\",\"Entertainment\",\"Entertainment\",\"Artist\",\"Healthcare\",\"Artist\",\"Healthcare\",\"Healthcare\",\"Executive\",\"Artist\",\"Artist\",\"Healthcare\",\"Homemaker\",\"Entertainment\",\"Executive\",\"Engineer\",\"Healthcare\",\"Healthcare\",\"Artist\",\"Artist\",\"Artist\",\"Healthcare\",\"Entertainment\",\"Marketing\",\"Executive\",\"Marketing\",\"Healthcare\",\"Engineer\",\"Artist\",\"Artist\",\"Doctor\",\"Entertainment\",\"Artist\",\"Healthcare\",\"Executive\",\"Healthcare\",\"Healthcare\",\"Executive\",\"Executive\",\"Healthcare\",\"Executive\",\"Doctor\",\"Artist\",\"Doctor\",\"Artist\",\"Artist\",\"Marketing\",\"Engineer\",\"Healthcare\",\"Entertainment\",\"Artist\",\"Artist\",\"Doctor\",\"Homemaker\",\"Artist\",\"Homemaker\",\"Doctor\",\"Executive\",\"Entertainment\",\"Engineer\",\"Executive\",\"Engineer\",\"Lawyer\",\"Artist\",\"Doctor\",\"Lawyer\",\"Entertainment\",\"Artist\",\"Marketing\",\"Healthcare\",\"Executive\",\"Entertainment\"],\"xaxis\":\"x\",\"y\":[1,3,0,1,0,1,1,1,12,3,5,1,1,0,1,9,0,14,1,0,14,8,1,0,9,7,0,0,8,0,0,4,0,6,8,7,1,1,10,1,3,0,0,10,1,6,9,4,1,0,1,0,0,0,8,9,0,1,3,8,0,0,8,9,6,0,0,1,1,0,0,9,2,3,0,0,5,11,2,4,8,7,6,5,9,1,1,4,9,2,2,8,2,6,4,9,1,7,0,1,1,1,1,1,4,10,6,6,2,0,1,7,1,3,0,7,8,6,1,5,3,5,8,5,2,9,7,8,10,13,6,3,4,0,0,0,1,0,13,14,6,13,9,8,1,1,0,9,8,6,8,1,5,0,0,1,12,17,13,5,15,13,14,5,16,2,7,0,1,1,1,2,1,1,1,7,10,5,1,1,13,7,15,8,8,7,0,3,2,0,15,11,10,15,8,17,0,0,3,2,0,2,0,4,3,6,8,1,0,9,1,1,8,9,0,2,14,1,9,4,0,0,0,0,0,0,0,1,1,6,8,8,4,5,15,10,15,7,8,16,9,5,1,8,5,1,6,1,0,1,0,3,0,0,0,0,1,1,0,0,6,7,9,0,3,0,8,1,1,1,4,12,0,0,0,1,0,7,7,6,0,2,9,1,0,8,1,0,1,0,7,1,7,3,1,2,1,0,1,6,10,0,8,6,0,0,8,9,0,6,0,0,0,10,1,1,7,2,1,4,0,1,1,1,8,1,1,8,6,8,4,0,13,0,0,1,1,9,0,0,14,0,5,6,10,0,1,0,9,5,8,7,10,8,7,4,4,5,1,0,9,0,1,0,0,4,10,1,0,3,3,0,11,1,6,4,7,7,6,9,1,3,0,0,1,0,7,1,8,1,13,2,11,0,2,1,4,9,8,1,1,1,0,1,0,5,3,2,1,4,1,11,1,6,5,1,1,0,1,1,1,9,1,1,4,1,1,1,1,1,0,8,0,0,8,0,1,1,12,9,6,4,1,0,1,1,0,10,1,0,6,7,1,0,1,0,0,1,2,3,4,1,0,0,1,1,1,7,6,1,1,9,0,6,1,8,4,0,1,1,1,0,0,9,9,14,11,9,3,0,0,0,0,0,12,1,14,0,8,4,0,6,0,9,0,8,0,0,5,9,1,10,1,1,8,0,0,6,1,0,4,9,6,6,9,5,5,10,8,6,9,3,1,1,0,1,0,1,2,1,8,1,4,4,6,7,10,8,5,5,7,10,5,4,0,10,9,1,1,0,1,1,0,7,8,1,9,10,10,5,5,9,5,6,6,9,9,6,5,4,7,5,8,10,10,10,9,4,7,4,7,10,8,6,8,10,8,6,5,5,8,8,10,5,1,0,1,4,0,1,0,0,1,1,0,1,1,0,9,1,1,3,0,0,1,1,0,1,1,0,0,0,0,1,0,1,1,0,9,0,7,1,0,2,0,1,0,5,1,2,8,1,1,0,0,3,9,0,0,9,3,0,8,1,1,0,1,8,1,9,1,1,7,0,4,8,1,0,6,0,4,1,0,1,1,1,1,1,0,1,0,0,9,7,7,8,8,10,5,10,7,4,10,10,7,7,7,7,5,9,6,4,8,6,10,9,9,5,10,5,4,4,6,7,8,10,8,4,0,9,0,9,1,0,6,3,0,0,1,9,0,0,2,0,0,0,8,4,8,8,8,7,8,4,9,8,9,9,6,8,7,8,6,4,5,5,8,6,4,7,5,9,6,5,7,5,4,10,9,5,7,9,8,9,4,10,5,4,7,8,10,8,4,8,7,9,9,7,5],\"yaxis\":\"y\",\"type\":\"bar\"},{\"alignmentgroup\":\"True\",\"hovertemplate\":\"Gender=Female<br>Profession=%{x}<br>Work Experience=%{y}<extra></extra>\",\"legendgroup\":\"Female\",\"marker\":{\"color\":\"#EF553B\",\"pattern\":{\"shape\":\"\"}},\"name\":\"Female\",\"offsetgroup\":\"Female\",\"orientation\":\"v\",\"showlegend\":true,\"textposition\":\"auto\",\"x\":[\"Engineer\",\"Lawyer\",\"Entertainment\",\"Artist\",\"Healthcare\",\"Healthcare\",\"Artist\",\"Healthcare\",\"Executive\",\"Lawyer\",\"Homemaker\",\"Artist\",\"Artist\",\"Executive\",\"Healthcare\",\"Artist\",\"Artist\",\"Doctor\",\"Lawyer\",\"Healthcare\",\"Doctor\",\"Healthcare\",\"Artist\",\"Artist\",\"Artist\",\"Artist\",\"Engineer\",\"Lawyer\",\"Artist\",\"Healthcare\",\"Healthcare\",\"Engineer\",\"Artist\",\"Artist\",\"Marketing\",\"Healthcare\",\"Artist\",\"Lawyer\",\"Lawyer\",\"Doctor\",\"Artist\",\"Homemaker\",\"Entertainment\",\"Artist\",\"Healthcare\",\"Doctor\",\"Engineer\",\"Entertainment\",\"Marketing\",\"Artist\",\"Artist\",\"Entertainment\",\"Doctor\",\"Entertainment\",\"Entertainment\",\"Artist\",\"Artist\",\"Artist\",\"Artist\",\"Executive\",\"Doctor\",\"Homemaker\",\"Artist\",\"Doctor\",\"Executive\",\"Executive\",\"Lawyer\",\"Artist\",\"Artist\",\"Executive\",\"Engineer\",\"Entertainment\",\"Marketing\",\"Healthcare\",\"Artist\",\"Executive\",\"Artist\",\"Artist\",\"Engineer\",\"Doctor\",\"Lawyer\",\"Lawyer\",\"Healthcare\",\"Engineer\",\"Artist\",\"Healthcare\",\"Marketing\",\"Artist\",\"Artist\",\"Artist\",\"Healthcare\",\"Healthcare\",\"Artist\",\"Artist\",\"Artist\",\"Lawyer\",\"Artist\",\"Artist\",\"Entertainment\",\"Artist\",\"Artist\",\"Lawyer\",\"Engineer\",\"Artist\",\"Artist\",\"Artist\",\"Artist\",\"Artist\",\"Executive\",\"Artist\",\"Healthcare\",\"Engineer\",\"Healthcare\",\"Entertainment\",\"Healthcare\",\"Healthcare\",\"Doctor\",\"Engineer\",\"Engineer\",\"Artist\",\"Healthcare\",\"Doctor\",\"Executive\",\"Artist\",\"Engineer\",\"Healthcare\",\"Homemaker\",\"Engineer\",\"Artist\",\"Lawyer\",\"Lawyer\",\"Healthcare\",\"Artist\",\"Healthcare\",\"Artist\",\"Artist\",\"Healthcare\",\"Artist\",\"Artist\",\"Entertainment\",\"Artist\",\"Artist\",\"Engineer\",\"Doctor\",\"Artist\",\"Lawyer\",\"Engineer\",\"Artist\",\"Artist\",\"Doctor\",\"Lawyer\",\"Engineer\",\"Homemaker\",\"Artist\",\"Artist\",\"Entertainment\",\"Artist\",\"Doctor\",\"Entertainment\",\"Artist\",\"Artist\",\"Engineer\",\"Executive\",\"Marketing\",\"Artist\",\"Artist\",\"Healthcare\",\"Entertainment\",\"Healthcare\",\"Marketing\",\"Engineer\",\"Doctor\",\"Engineer\",\"Entertainment\",\"Executive\",\"Engineer\",\"Healthcare\",\"Healthcare\",\"Lawyer\",\"Marketing\",\"Artist\",\"Doctor\",\"Engineer\",\"Engineer\",\"Lawyer\",\"Executive\",\"Homemaker\",\"Healthcare\",\"Healthcare\",\"Artist\",\"Engineer\",\"Healthcare\",\"Artist\",\"Engineer\",\"Entertainment\",\"Healthcare\",\"Healthcare\",\"Healthcare\",\"Doctor\",\"Artist\",\"Artist\",\"Engineer\",\"Healthcare\",\"Lawyer\",\"Healthcare\",\"Artist\",\"Marketing\",\"Artist\",\"Artist\",\"Lawyer\",\"Doctor\",\"Homemaker\",\"Lawyer\",\"Engineer\",\"Entertainment\",\"Artist\",\"Executive\",\"Entertainment\",\"Entertainment\",\"Lawyer\",\"Doctor\",\"Doctor\",\"Artist\",\"Entertainment\",\"Artist\",\"Artist\",\"Artist\",\"Artist\",\"Healthcare\",\"Doctor\",\"Artist\",\"Artist\",\"Artist\",\"Homemaker\",\"Entertainment\",\"Engineer\",\"Healthcare\",\"Artist\",\"Executive\",\"Lawyer\",\"Artist\",\"Lawyer\",\"Engineer\",\"Artist\",\"Artist\",\"Homemaker\",\"Entertainment\",\"Entertainment\",\"Artist\",\"Entertainment\",\"Artist\",\"Artist\",\"Artist\",\"Doctor\",\"Lawyer\",\"Artist\",\"Artist\",\"Lawyer\",\"Engineer\",\"Artist\",\"Healthcare\",\"Lawyer\",\"Artist\",\"Artist\",\"Artist\",\"Doctor\",\"Lawyer\",\"Healthcare\",\"Entertainment\",\"Engineer\",\"Executive\",\"Artist\",\"Healthcare\",\"Lawyer\",\"Artist\",\"Healthcare\",\"Healthcare\",\"Healthcare\",\"Artist\",\"Artist\",\"Healthcare\",\"Artist\",\"Lawyer\",\"Artist\",\"Entertainment\",\"Healthcare\",\"Doctor\",\"Healthcare\",\"Healthcare\",\"Artist\",\"Doctor\",\"Executive\",\"Executive\",\"Artist\",\"Artist\",\"Artist\",\"Entertainment\",\"Artist\",\"Homemaker\",\"Entertainment\",\"Healthcare\",\"Entertainment\",\"Engineer\",\"Doctor\",\"Healthcare\",\"Healthcare\",\"Healthcare\",\"Artist\",\"Engineer\",\"Doctor\",\"Artist\",\"Entertainment\",\"Artist\",\"Executive\",\"Artist\",\"Artist\",\"Entertainment\",\"Artist\",\"Entertainment\",\"Homemaker\",\"Doctor\",\"Homemaker\",\"Marketing\",\"Healthcare\",\"Healthcare\",\"Artist\",\"Lawyer\",\"Entertainment\",\"Entertainment\",\"Healthcare\",\"Artist\",\"Engineer\",\"Healthcare\",\"Engineer\",\"Executive\",\"Artist\",\"Artist\",\"Artist\",\"Healthcare\",\"Marketing\",\"Artist\",\"Entertainment\",\"Doctor\",\"Marketing\",\"Executive\",\"Lawyer\",\"Healthcare\",\"Healthcare\",\"Entertainment\",\"Doctor\",\"Engineer\",\"Executive\",\"Entertainment\",\"Artist\",\"Lawyer\",\"Executive\",\"Healthcare\",\"Artist\",\"Executive\",\"Doctor\",\"Artist\",\"Lawyer\",\"Healthcare\",\"Artist\",\"Artist\",\"Entertainment\",\"Doctor\",\"Healthcare\",\"Artist\",\"Lawyer\",\"Healthcare\",\"Executive\",\"Healthcare\",\"Healthcare\",\"Entertainment\",\"Doctor\",\"Artist\",\"Marketing\",\"Healthcare\",\"Artist\",\"Doctor\",\"Artist\",\"Lawyer\",\"Healthcare\",\"Lawyer\",\"Doctor\",\"Artist\",\"Executive\",\"Executive\",\"Artist\",\"Healthcare\",\"Doctor\",\"Entertainment\",\"Artist\",\"Engineer\",\"Artist\",\"Doctor\",\"Lawyer\",\"Artist\",\"Healthcare\",\"Doctor\",\"Entertainment\",\"Artist\",\"Healthcare\",\"Engineer\",\"Healthcare\",\"Healthcare\",\"Healthcare\",\"Lawyer\",\"Entertainment\",\"Artist\",\"Executive\",\"Healthcare\",\"Artist\",\"Artist\",\"Engineer\",\"Lawyer\",\"Healthcare\",\"Artist\",\"Marketing\",\"Artist\",\"Healthcare\",\"Healthcare\",\"Healthcare\",\"Entertainment\",\"Engineer\",\"Marketing\",\"Doctor\",\"Artist\",\"Entertainment\",\"Executive\",\"Executive\",\"Artist\",\"Engineer\",\"Entertainment\",\"Engineer\",\"Entertainment\",\"Artist\",\"Entertainment\",\"Lawyer\",\"Marketing\",\"Artist\",\"Engineer\",\"Entertainment\",\"Healthcare\",\"Artist\",\"Doctor\",\"Engineer\",\"Marketing\",\"Engineer\",\"Artist\",\"Artist\",\"Healthcare\",\"Artist\",\"Artist\",\"Homemaker\",\"Entertainment\",\"Homemaker\",\"Entertainment\",\"Lawyer\",\"Artist\",\"Healthcare\",\"Lawyer\",\"Doctor\",\"Entertainment\",\"Artist\",\"Marketing\",\"Artist\",\"Healthcare\",\"Healthcare\",\"Artist\",\"Healthcare\",\"Executive\",\"Artist\",\"Executive\",\"Entertainment\",\"Doctor\",\"Healthcare\",\"Artist\",\"Marketing\",\"Entertainment\",\"Healthcare\",\"Artist\",\"Homemaker\",\"Executive\",\"Engineer\",\"Lawyer\",\"Executive\",\"Healthcare\",\"Healthcare\",\"Healthcare\",\"Doctor\",\"Artist\",\"Healthcare\",\"Healthcare\",\"Lawyer\",\"Healthcare\",\"Healthcare\",\"Healthcare\",\"Lawyer\",\"Executive\",\"Artist\",\"Healthcare\",\"Lawyer\",\"Marketing\",\"Artist\",\"Engineer\",\"Marketing\",\"Doctor\",\"Marketing\",\"Healthcare\",\"Entertainment\",\"Artist\",\"Homemaker\",\"Healthcare\",\"Artist\",\"Healthcare\",\"Artist\",\"Artist\",\"Doctor\",\"Healthcare\",\"Executive\",\"Artist\",\"Executive\",\"Engineer\",\"Marketing\",\"Engineer\",\"Artist\",\"Doctor\",\"Artist\",\"Marketing\",\"Artist\",\"Healthcare\",\"Healthcare\",\"Artist\",\"Artist\",\"Homemaker\",\"Homemaker\",\"Engineer\",\"Artist\",\"Artist\",\"Engineer\",\"Artist\",\"Artist\",\"Healthcare\",\"Entertainment\",\"Executive\",\"Artist\",\"Artist\",\"Artist\",\"Healthcare\",\"Entertainment\",\"Artist\",\"Entertainment\",\"Healthcare\",\"Lawyer\",\"Lawyer\",\"Artist\",\"Marketing\",\"Artist\",\"Artist\",\"Healthcare\",\"Entertainment\",\"Artist\",\"Artist\",\"Healthcare\",\"Entertainment\",\"Artist\",\"Homemaker\",\"Homemaker\",\"Doctor\",\"Engineer\",\"Artist\",\"Entertainment\",\"Marketing\",\"Artist\",\"Artist\",\"Engineer\",\"Homemaker\",\"Healthcare\",\"Entertainment\",\"Entertainment\",\"Executive\",\"Artist\",\"Executive\",\"Artist\",\"Engineer\",\"Artist\",\"Entertainment\",\"Entertainment\",\"Artist\",\"Artist\",\"Lawyer\",\"Executive\",\"Artist\",\"Executive\",\"Entertainment\",\"Entertainment\",\"Artist\",\"Lawyer\",\"Executive\",\"Artist\",\"Healthcare\",\"Marketing\",\"Artist\",\"Executive\",\"Doctor\",\"Healthcare\",\"Marketing\",\"Artist\",\"Entertainment\",\"Artist\",\"Artist\",\"Doctor\",\"Artist\",\"Entertainment\",\"Artist\",\"Artist\",\"Artist\",\"Homemaker\",\"Artist\",\"Healthcare\",\"Executive\",\"Doctor\",\"Artist\",\"Artist\",\"Doctor\",\"Entertainment\",\"Engineer\",\"Artist\",\"Artist\",\"Lawyer\",\"Engineer\",\"Artist\",\"Executive\",\"Artist\",\"Artist\",\"Healthcare\",\"Healthcare\",\"Healthcare\",\"Entertainment\",\"Engineer\",\"Entertainment\",\"Entertainment\",\"Artist\",\"Executive\",\"Lawyer\",\"Healthcare\",\"Engineer\",\"Healthcare\",\"Artist\",\"Engineer\",\"Executive\",\"Executive\",\"Entertainment\",\"Healthcare\",\"Artist\",\"Artist\",\"Marketing\",\"Artist\",\"Healthcare\",\"Artist\",\"Lawyer\",\"Artist\",\"Artist\",\"Entertainment\",\"Artist\",\"Executive\",\"Lawyer\",\"Lawyer\",\"Marketing\",\"Homemaker\",\"Healthcare\",\"Marketing\",\"Healthcare\",\"Executive\",\"Healthcare\",\"Artist\",\"Healthcare\",\"Doctor\",\"Healthcare\",\"Artist\",\"Healthcare\",\"Healthcare\",\"Artist\",\"Artist\",\"Artist\",\"Engineer\",\"Lawyer\",\"Executive\",\"Artist\",\"Artist\",\"Artist\",\"Artist\",\"Executive\",\"Entertainment\",\"Healthcare\",\"Doctor\",\"Artist\",\"Entertainment\",\"Entertainment\",\"Artist\",\"Executive\",\"Doctor\",\"Doctor\",\"Entertainment\",\"Artist\",\"Entertainment\",\"Doctor\",\"Healthcare\",\"Executive\",\"Healthcare\",\"Artist\",\"Artist\",\"Healthcare\",\"Lawyer\",\"Artist\",\"Artist\",\"Healthcare\",\"Executive\",\"Entertainment\",\"Engineer\",\"Artist\",\"Healthcare\",\"Artist\",\"Healthcare\",\"Marketing\",\"Executive\",\"Executive\",\"Homemaker\",\"Marketing\",\"Healthcare\",\"Engineer\",\"Engineer\",\"Lawyer\",\"Doctor\",\"Entertainment\",\"Artist\",\"Doctor\",\"Entertainment\",\"Engineer\",\"Healthcare\",\"Lawyer\",\"Homemaker\",\"Lawyer\",\"Artist\",\"Entertainment\",\"Doctor\",\"Entertainment\",\"Healthcare\",\"Artist\",\"Artist\",\"Healthcare\",\"Healthcare\",\"Engineer\",\"Entertainment\",\"Entertainment\",\"Homemaker\",\"Artist\",\"Executive\",\"Artist\",\"Artist\",\"Engineer\",\"Artist\",\"Healthcare\",\"Artist\",\"Healthcare\",\"Healthcare\",\"Artist\",\"Entertainment\",\"Healthcare\",\"Healthcare\",\"Healthcare\",\"Artist\",\"Lawyer\",\"Doctor\",\"Artist\",\"Marketing\",\"Lawyer\",\"Artist\",\"Healthcare\",\"Artist\",\"Doctor\",\"Healthcare\",\"Entertainment\",\"Artist\",\"Artist\",\"Artist\",\"Healthcare\",\"Healthcare\",\"Doctor\",\"Artist\",\"Marketing\",\"Artist\",\"Doctor\",\"Artist\",\"Doctor\",\"Engineer\",\"Artist\",\"Doctor\",\"Lawyer\",\"Engineer\",\"Lawyer\",\"Healthcare\",\"Artist\",\"Artist\",\"Marketing\",\"Lawyer\",\"Artist\",\"Healthcare\",\"Healthcare\",\"Doctor\",\"Engineer\",\"Artist\",\"Artist\",\"Healthcare\",\"Executive\",\"Entertainment\",\"Engineer\",\"Doctor\",\"Doctor\",\"Engineer\",\"Entertainment\",\"Doctor\",\"Executive\",\"Executive\",\"Healthcare\",\"Healthcare\",\"Engineer\",\"Executive\",\"Healthcare\",\"Executive\",\"Artist\",\"Entertainment\",\"Artist\",\"Lawyer\",\"Artist\",\"Artist\",\"Healthcare\",\"Artist\",\"Artist\",\"Healthcare\",\"Engineer\",\"Lawyer\",\"Marketing\",\"Artist\",\"Healthcare\",\"Artist\",\"Healthcare\",\"Artist\",\"Healthcare\",\"Artist\",\"Artist\",\"Artist\",\"Entertainment\",\"Artist\",\"Engineer\",\"Engineer\",\"Entertainment\",\"Engineer\",\"Marketing\",\"Artist\",\"Marketing\",\"Artist\",\"Artist\",\"Artist\",\"Artist\",\"Engineer\",\"Engineer\",\"Artist\",\"Artist\",\"Doctor\",\"Doctor\",\"Artist\",\"Marketing\",\"Artist\",\"Artist\",\"Artist\",\"Engineer\",\"Artist\",\"Artist\",\"Executive\",\"Doctor\",\"Healthcare\",\"Artist\",\"Artist\",\"Engineer\",\"Entertainment\",\"Artist\",\"Artist\",\"Healthcare\",\"Healthcare\",\"Executive\",\"Executive\",\"Entertainment\",\"Healthcare\",\"Artist\",\"Executive\",\"Entertainment\",\"Artist\",\"Engineer\",\"Healthcare\",\"Artist\",\"Engineer\",\"Engineer\",\"Lawyer\",\"Artist\",\"Artist\",\"Healthcare\",\"Engineer\",\"Entertainment\",\"Artist\",\"Artist\",\"Healthcare\",\"Executive\",\"Entertainment\",\"Entertainment\",\"Engineer\",\"Artist\",\"Doctor\",\"Homemaker\",\"Artist\",\"Homemaker\",\"Artist\",\"Healthcare\",\"Healthcare\",\"Artist\",\"Marketing\",\"Marketing\",\"Artist\",\"Healthcare\",\"Healthcare\",\"Engineer\",\"Artist\",\"Healthcare\",\"Artist\",\"Entertainment\",\"Executive\",\"Marketing\",\"Entertainment\",\"Artist\",\"Healthcare\",\"Homemaker\",\"Artist\",\"Entertainment\",\"Lawyer\",\"Healthcare\",\"Artist\",\"Entertainment\",\"Engineer\",\"Artist\",\"Artist\",\"Healthcare\",\"Healthcare\",\"Engineer\",\"Artist\",\"Entertainment\",\"Healthcare\",\"Homemaker\",\"Doctor\",\"Lawyer\",\"Healthcare\",\"Doctor\",\"Homemaker\",\"Entertainment\",\"Marketing\",\"Entertainment\",\"Artist\",\"Healthcare\",\"Artist\",\"Healthcare\",\"Lawyer\",\"Executive\",\"Artist\",\"Doctor\",\"Healthcare\",\"Marketing\",\"Artist\",\"Executive\",\"Healthcare\",\"Executive\",\"Lawyer\",\"Artist\",\"Artist\",\"Artist\",\"Artist\",\"Artist\",\"Engineer\",\"Marketing\",\"Doctor\",\"Healthcare\",\"Engineer\",\"Entertainment\",\"Homemaker\",\"Entertainment\",\"Entertainment\",\"Engineer\",\"Healthcare\",\"Lawyer\",\"Entertainment\",\"Homemaker\",\"Entertainment\",\"Artist\",\"Entertainment\",\"Entertainment\",\"Lawyer\",\"Executive\",\"Artist\",\"Doctor\",\"Executive\",\"Marketing\",\"Homemaker\",\"Executive\",\"Artist\",\"Artist\",\"Engineer\",\"Artist\",\"Entertainment\",\"Entertainment\",\"Doctor\",\"Lawyer\",\"Engineer\",\"Artist\",\"Artist\",\"Artist\",\"Executive\",\"Artist\",\"Artist\",\"Doctor\",\"Artist\",\"Healthcare\",\"Lawyer\",\"Artist\",\"Executive\",\"Doctor\",\"Engineer\",\"Artist\",\"Artist\",\"Entertainment\",\"Artist\",\"Lawyer\",\"Artist\",\"Entertainment\",\"Lawyer\",\"Engineer\",\"Marketing\",\"Homemaker\",\"Engineer\",\"Lawyer\",\"Marketing\",\"Artist\",\"Artist\",\"Artist\",\"Homemaker\",\"Healthcare\",\"Artist\",\"Artist\",\"Artist\",\"Artist\",\"Engineer\",\"Marketing\",\"Artist\",\"Healthcare\",\"Homemaker\",\"Executive\",\"Entertainment\",\"Lawyer\",\"Executive\",\"Artist\",\"Executive\",\"Healthcare\",\"Artist\",\"Artist\",\"Artist\",\"Artist\",\"Artist\",\"Lawyer\",\"Marketing\",\"Entertainment\",\"Doctor\",\"Homemaker\",\"Artist\",\"Entertainment\",\"Artist\",\"Lawyer\",\"Artist\",\"Entertainment\",\"Doctor\",\"Artist\",\"Doctor\",\"Healthcare\",\"Healthcare\",\"Artist\",\"Engineer\",\"Entertainment\",\"Engineer\",\"Artist\",\"Artist\",\"Entertainment\",\"Entertainment\",\"Executive\",\"Artist\",\"Doctor\",\"Artist\",\"Entertainment\",\"Healthcare\",\"Engineer\",\"Healthcare\",\"Entertainment\",\"Executive\",\"Artist\",\"Healthcare\",\"Artist\",\"Lawyer\",\"Entertainment\",\"Artist\",\"Healthcare\",\"Marketing\",\"Artist\",\"Executive\",\"Healthcare\",\"Engineer\",\"Entertainment\",\"Artist\",\"Healthcare\",\"Executive\",\"Artist\",\"Executive\",\"Homemaker\",\"Doctor\",\"Artist\",\"Doctor\",\"Artist\",\"Artist\",\"Artist\",\"Healthcare\",\"Artist\",\"Artist\",\"Lawyer\",\"Entertainment\",\"Entertainment\",\"Lawyer\",\"Marketing\",\"Entertainment\",\"Engineer\",\"Entertainment\",\"Engineer\",\"Artist\",\"Artist\",\"Entertainment\",\"Executive\",\"Healthcare\",\"Executive\",\"Artist\",\"Artist\",\"Marketing\",\"Lawyer\",\"Doctor\",\"Artist\",\"Doctor\",\"Artist\",\"Entertainment\",\"Artist\",\"Engineer\",\"Artist\",\"Doctor\"],\"xaxis\":\"x\",\"y\":[1,0,2,0,1,1,1,4,0,1,9,0,13,1,9,0,5,1,1,3,5,1,8,8,4,1,8,4,0,12,0,1,1,1,1,9,1,0,1,0,8,2,8,0,8,0,2,8,1,0,5,7,0,0,1,0,0,0,0,1,1,3,0,1,0,8,1,0,1,1,9,9,1,6,5,5,5,4,0,5,1,1,7,0,2,0,8,3,3,1,1,1,5,0,0,0,3,7,7,4,1,1,8,4,5,8,10,7,1,0,0,6,4,0,8,0,0,9,1,2,3,8,9,5,4,1,4,1,5,8,0,0,9,0,1,0,1,0,0,7,1,1,0,8,5,7,4,2,2,2,2,3,1,1,0,6,1,0,0,0,1,9,1,1,1,1,0,1,1,0,1,6,6,2,9,3,6,5,1,6,4,0,1,5,5,9,4,8,2,4,7,1,2,3,10,8,1,0,14,8,3,1,1,0,9,9,2,13,9,7,9,11,9,4,1,1,12,1,1,2,6,1,2,0,0,1,15,15,16,13,7,9,15,6,14,16,11,17,15,0,0,1,1,0,8,9,1,0,5,7,1,3,4,1,0,0,0,1,6,13,7,10,1,14,6,4,0,0,1,1,12,4,5,9,6,9,1,1,1,9,1,3,3,0,1,12,1,6,0,1,1,1,1,1,1,6,0,0,14,13,1,1,1,1,8,15,0,0,3,1,0,1,1,1,1,3,1,2,1,5,1,1,1,1,8,1,11,8,9,15,17,0,4,8,4,4,1,1,4,5,9,12,6,15,10,16,12,11,7,15,8,14,5,7,17,7,13,8,2,0,0,0,9,10,1,1,1,0,13,1,0,6,2,0,0,0,0,3,0,0,0,0,8,1,1,1,6,0,1,1,2,4,1,0,1,1,1,1,1,1,1,0,0,0,0,0,4,1,10,1,8,9,8,0,6,0,1,1,0,1,1,6,9,7,0,7,2,0,1,0,1,5,0,9,4,1,0,4,1,0,1,1,1,8,4,7,1,0,1,1,3,9,2,0,1,1,2,9,1,1,1,7,1,9,3,0,0,4,8,0,1,0,0,1,0,1,6,6,10,7,8,7,4,4,1,1,1,4,7,0,0,14,12,8,9,5,4,8,6,7,1,1,1,4,0,8,0,12,0,8,1,1,0,9,1,2,9,6,6,7,0,6,0,5,1,1,8,1,1,10,10,7,6,10,8,9,8,7,7,5,1,0,1,8,0,1,1,1,1,5,0,6,9,4,0,10,1,6,9,9,0,0,5,0,0,8,9,6,8,5,5,6,4,0,1,1,1,2,9,0,1,0,3,9,1,9,0,4,10,0,5,0,0,0,8,7,4,1,2,1,1,2,1,0,1,0,9,1,0,1,8,1,6,0,9,1,7,8,1,8,0,0,0,9,1,0,0,2,9,8,1,1,1,0,3,0,0,1,10,0,0,5,1,2,1,0,0,0,9,0,0,11,1,9,1,7,8,1,2,5,5,1,0,0,1,0,6,5,9,1,9,2,0,1,0,1,1,0,9,0,7,7,4,1,9,0,5,1,1,0,6,4,8,5,1,8,0,11,2,1,1,9,2,4,1,0,0,0,12,0,4,0,1,1,0,0,3,1,0,0,14,8,4,1,1,1,0,4,1,3,1,1,0,0,1,0,0,9,9,1,0,3,1,9,1,1,1,1,1,0,1,1,1,0,0,3,0,8,12,9,0,6,1,2,0,1,5,1,1,0,2,4,0,10,1,8,4,7,6,6,7,7,5,8,5,1,0,1,8,0,1,6,1,10,1,1,0,1,4,1,0,4,10,7,7,5,4,8,6,5,6,10,1,7,0,1,10,0,4,0,0,1,1,0,9,1,0,8,5,0,5,0,8,1,0,10,6,7,6,6,5,10,7,9,6,8,6,10,9,6,5,5,9,7,4,8,4,10,7,5,7,8,5,10,7,8,5,8,5,7,7,4,9,4,6,4,5,5,5,9,7,7,5,10,10,8,5,9,9,6,9,9,9,8,6,10,7,0,0,1,0,1,1,8,8,1,0,4,1,7,0,13,0,1,0,0,6,9,0,1,1,7,9,0,1,8,1,0,2,0,7,3,0,1,0,2,0,5,0,0,1,5,8,0,0,1,4,0,8,1,0,4,0,0,10,1,9,1,8,1,3,1,7,0,1,9,8,9,4,1,1,1,1,9,6,0,0,9,0,0,0,1,1,9,0,0,0,3,1,14,1,0,4,9,1,8,9,0,0,10,8,0,0,8,1,0,9,1,1,0,10,6,1,2,0,1,8,0,0,6,5,8,5,10,4,9,10,5,8,8,10,6,7,9,9,7,6,9,4,10,6,9,9,6,10,10,7,7,10,6,4,5,10,10,4,4,7,10,8,7,6,10,8,6,6,8,5,9,10,8,4,7,6,6,4,10,1,0,1,0,9,11,7,5,9,1,9,7,1,0,3,1,1,0,1,1,9,1,0,1,0,12,1,1,6,0,4,0,1,1,0,0,0,1,6,0,5,7,10,4,8,6,9,7,8,8,6,8,4,4,7,10,9,5,5,10,4,8,7,8,6,9,6,9,4,4,7,7,8,8,10,8,9,7,5,10,6,4,4,6,7,5,9,6,8,7],\"yaxis\":\"y\",\"type\":\"bar\"}],                        {\"template\":{\"data\":{\"bar\":[{\"error_x\":{\"color\":\"#2a3f5f\"},\"error_y\":{\"color\":\"#2a3f5f\"},\"marker\":{\"line\":{\"color\":\"#E5ECF6\",\"width\":0.5},\"pattern\":{\"fillmode\":\"overlay\",\"size\":10,\"solidity\":0.2}},\"type\":\"bar\"}],\"barpolar\":[{\"marker\":{\"line\":{\"color\":\"#E5ECF6\",\"width\":0.5},\"pattern\":{\"fillmode\":\"overlay\",\"size\":10,\"solidity\":0.2}},\"type\":\"barpolar\"}],\"carpet\":[{\"aaxis\":{\"endlinecolor\":\"#2a3f5f\",\"gridcolor\":\"white\",\"linecolor\":\"white\",\"minorgridcolor\":\"white\",\"startlinecolor\":\"#2a3f5f\"},\"baxis\":{\"endlinecolor\":\"#2a3f5f\",\"gridcolor\":\"white\",\"linecolor\":\"white\",\"minorgridcolor\":\"white\",\"startlinecolor\":\"#2a3f5f\"},\"type\":\"carpet\"}],\"choropleth\":[{\"colorbar\":{\"outlinewidth\":0,\"ticks\":\"\"},\"type\":\"choropleth\"}],\"contour\":[{\"colorbar\":{\"outlinewidth\":0,\"ticks\":\"\"},\"colorscale\":[[0.0,\"#0d0887\"],[0.1111111111111111,\"#46039f\"],[0.2222222222222222,\"#7201a8\"],[0.3333333333333333,\"#9c179e\"],[0.4444444444444444,\"#bd3786\"],[0.5555555555555556,\"#d8576b\"],[0.6666666666666666,\"#ed7953\"],[0.7777777777777778,\"#fb9f3a\"],[0.8888888888888888,\"#fdca26\"],[1.0,\"#f0f921\"]],\"type\":\"contour\"}],\"contourcarpet\":[{\"colorbar\":{\"outlinewidth\":0,\"ticks\":\"\"},\"type\":\"contourcarpet\"}],\"heatmap\":[{\"colorbar\":{\"outlinewidth\":0,\"ticks\":\"\"},\"colorscale\":[[0.0,\"#0d0887\"],[0.1111111111111111,\"#46039f\"],[0.2222222222222222,\"#7201a8\"],[0.3333333333333333,\"#9c179e\"],[0.4444444444444444,\"#bd3786\"],[0.5555555555555556,\"#d8576b\"],[0.6666666666666666,\"#ed7953\"],[0.7777777777777778,\"#fb9f3a\"],[0.8888888888888888,\"#fdca26\"],[1.0,\"#f0f921\"]],\"type\":\"heatmap\"}],\"heatmapgl\":[{\"colorbar\":{\"outlinewidth\":0,\"ticks\":\"\"},\"colorscale\":[[0.0,\"#0d0887\"],[0.1111111111111111,\"#46039f\"],[0.2222222222222222,\"#7201a8\"],[0.3333333333333333,\"#9c179e\"],[0.4444444444444444,\"#bd3786\"],[0.5555555555555556,\"#d8576b\"],[0.6666666666666666,\"#ed7953\"],[0.7777777777777778,\"#fb9f3a\"],[0.8888888888888888,\"#fdca26\"],[1.0,\"#f0f921\"]],\"type\":\"heatmapgl\"}],\"histogram\":[{\"marker\":{\"pattern\":{\"fillmode\":\"overlay\",\"size\":10,\"solidity\":0.2}},\"type\":\"histogram\"}],\"histogram2d\":[{\"colorbar\":{\"outlinewidth\":0,\"ticks\":\"\"},\"colorscale\":[[0.0,\"#0d0887\"],[0.1111111111111111,\"#46039f\"],[0.2222222222222222,\"#7201a8\"],[0.3333333333333333,\"#9c179e\"],[0.4444444444444444,\"#bd3786\"],[0.5555555555555556,\"#d8576b\"],[0.6666666666666666,\"#ed7953\"],[0.7777777777777778,\"#fb9f3a\"],[0.8888888888888888,\"#fdca26\"],[1.0,\"#f0f921\"]],\"type\":\"histogram2d\"}],\"histogram2dcontour\":[{\"colorbar\":{\"outlinewidth\":0,\"ticks\":\"\"},\"colorscale\":[[0.0,\"#0d0887\"],[0.1111111111111111,\"#46039f\"],[0.2222222222222222,\"#7201a8\"],[0.3333333333333333,\"#9c179e\"],[0.4444444444444444,\"#bd3786\"],[0.5555555555555556,\"#d8576b\"],[0.6666666666666666,\"#ed7953\"],[0.7777777777777778,\"#fb9f3a\"],[0.8888888888888888,\"#fdca26\"],[1.0,\"#f0f921\"]],\"type\":\"histogram2dcontour\"}],\"mesh3d\":[{\"colorbar\":{\"outlinewidth\":0,\"ticks\":\"\"},\"type\":\"mesh3d\"}],\"parcoords\":[{\"line\":{\"colorbar\":{\"outlinewidth\":0,\"ticks\":\"\"}},\"type\":\"parcoords\"}],\"pie\":[{\"automargin\":true,\"type\":\"pie\"}],\"scatter\":[{\"marker\":{\"colorbar\":{\"outlinewidth\":0,\"ticks\":\"\"}},\"type\":\"scatter\"}],\"scatter3d\":[{\"line\":{\"colorbar\":{\"outlinewidth\":0,\"ticks\":\"\"}},\"marker\":{\"colorbar\":{\"outlinewidth\":0,\"ticks\":\"\"}},\"type\":\"scatter3d\"}],\"scattercarpet\":[{\"marker\":{\"colorbar\":{\"outlinewidth\":0,\"ticks\":\"\"}},\"type\":\"scattercarpet\"}],\"scattergeo\":[{\"marker\":{\"colorbar\":{\"outlinewidth\":0,\"ticks\":\"\"}},\"type\":\"scattergeo\"}],\"scattergl\":[{\"marker\":{\"colorbar\":{\"outlinewidth\":0,\"ticks\":\"\"}},\"type\":\"scattergl\"}],\"scattermapbox\":[{\"marker\":{\"colorbar\":{\"outlinewidth\":0,\"ticks\":\"\"}},\"type\":\"scattermapbox\"}],\"scatterpolar\":[{\"marker\":{\"colorbar\":{\"outlinewidth\":0,\"ticks\":\"\"}},\"type\":\"scatterpolar\"}],\"scatterpolargl\":[{\"marker\":{\"colorbar\":{\"outlinewidth\":0,\"ticks\":\"\"}},\"type\":\"scatterpolargl\"}],\"scatterternary\":[{\"marker\":{\"colorbar\":{\"outlinewidth\":0,\"ticks\":\"\"}},\"type\":\"scatterternary\"}],\"surface\":[{\"colorbar\":{\"outlinewidth\":0,\"ticks\":\"\"},\"colorscale\":[[0.0,\"#0d0887\"],[0.1111111111111111,\"#46039f\"],[0.2222222222222222,\"#7201a8\"],[0.3333333333333333,\"#9c179e\"],[0.4444444444444444,\"#bd3786\"],[0.5555555555555556,\"#d8576b\"],[0.6666666666666666,\"#ed7953\"],[0.7777777777777778,\"#fb9f3a\"],[0.8888888888888888,\"#fdca26\"],[1.0,\"#f0f921\"]],\"type\":\"surface\"}],\"table\":[{\"cells\":{\"fill\":{\"color\":\"#EBF0F8\"},\"line\":{\"color\":\"white\"}},\"header\":{\"fill\":{\"color\":\"#C8D4E3\"},\"line\":{\"color\":\"white\"}},\"type\":\"table\"}]},\"layout\":{\"annotationdefaults\":{\"arrowcolor\":\"#2a3f5f\",\"arrowhead\":0,\"arrowwidth\":1},\"autotypenumbers\":\"strict\",\"coloraxis\":{\"colorbar\":{\"outlinewidth\":0,\"ticks\":\"\"}},\"colorscale\":{\"diverging\":[[0,\"#8e0152\"],[0.1,\"#c51b7d\"],[0.2,\"#de77ae\"],[0.3,\"#f1b6da\"],[0.4,\"#fde0ef\"],[0.5,\"#f7f7f7\"],[0.6,\"#e6f5d0\"],[0.7,\"#b8e186\"],[0.8,\"#7fbc41\"],[0.9,\"#4d9221\"],[1,\"#276419\"]],\"sequential\":[[0.0,\"#0d0887\"],[0.1111111111111111,\"#46039f\"],[0.2222222222222222,\"#7201a8\"],[0.3333333333333333,\"#9c179e\"],[0.4444444444444444,\"#bd3786\"],[0.5555555555555556,\"#d8576b\"],[0.6666666666666666,\"#ed7953\"],[0.7777777777777778,\"#fb9f3a\"],[0.8888888888888888,\"#fdca26\"],[1.0,\"#f0f921\"]],\"sequentialminus\":[[0.0,\"#0d0887\"],[0.1111111111111111,\"#46039f\"],[0.2222222222222222,\"#7201a8\"],[0.3333333333333333,\"#9c179e\"],[0.4444444444444444,\"#bd3786\"],[0.5555555555555556,\"#d8576b\"],[0.6666666666666666,\"#ed7953\"],[0.7777777777777778,\"#fb9f3a\"],[0.8888888888888888,\"#fdca26\"],[1.0,\"#f0f921\"]]},\"colorway\":[\"#636efa\",\"#EF553B\",\"#00cc96\",\"#ab63fa\",\"#FFA15A\",\"#19d3f3\",\"#FF6692\",\"#B6E880\",\"#FF97FF\",\"#FECB52\"],\"font\":{\"color\":\"#2a3f5f\"},\"geo\":{\"bgcolor\":\"white\",\"lakecolor\":\"white\",\"landcolor\":\"#E5ECF6\",\"showlakes\":true,\"showland\":true,\"subunitcolor\":\"white\"},\"hoverlabel\":{\"align\":\"left\"},\"hovermode\":\"closest\",\"mapbox\":{\"style\":\"light\"},\"paper_bgcolor\":\"white\",\"plot_bgcolor\":\"#E5ECF6\",\"polar\":{\"angularaxis\":{\"gridcolor\":\"white\",\"linecolor\":\"white\",\"ticks\":\"\"},\"bgcolor\":\"#E5ECF6\",\"radialaxis\":{\"gridcolor\":\"white\",\"linecolor\":\"white\",\"ticks\":\"\"}},\"scene\":{\"xaxis\":{\"backgroundcolor\":\"#E5ECF6\",\"gridcolor\":\"white\",\"gridwidth\":2,\"linecolor\":\"white\",\"showbackground\":true,\"ticks\":\"\",\"zerolinecolor\":\"white\"},\"yaxis\":{\"backgroundcolor\":\"#E5ECF6\",\"gridcolor\":\"white\",\"gridwidth\":2,\"linecolor\":\"white\",\"showbackground\":true,\"ticks\":\"\",\"zerolinecolor\":\"white\"},\"zaxis\":{\"backgroundcolor\":\"#E5ECF6\",\"gridcolor\":\"white\",\"gridwidth\":2,\"linecolor\":\"white\",\"showbackground\":true,\"ticks\":\"\",\"zerolinecolor\":\"white\"}},\"shapedefaults\":{\"line\":{\"color\":\"#2a3f5f\"}},\"ternary\":{\"aaxis\":{\"gridcolor\":\"white\",\"linecolor\":\"white\",\"ticks\":\"\"},\"baxis\":{\"gridcolor\":\"white\",\"linecolor\":\"white\",\"ticks\":\"\"},\"bgcolor\":\"#E5ECF6\",\"caxis\":{\"gridcolor\":\"white\",\"linecolor\":\"white\",\"ticks\":\"\"}},\"title\":{\"x\":0.05},\"xaxis\":{\"automargin\":true,\"gridcolor\":\"white\",\"linecolor\":\"white\",\"ticks\":\"\",\"title\":{\"standoff\":15},\"zerolinecolor\":\"white\",\"zerolinewidth\":2},\"yaxis\":{\"automargin\":true,\"gridcolor\":\"white\",\"linecolor\":\"white\",\"ticks\":\"\",\"title\":{\"standoff\":15},\"zerolinecolor\":\"white\",\"zerolinewidth\":2}}},\"xaxis\":{\"anchor\":\"y\",\"domain\":[0.0,1.0],\"title\":{\"text\":\"Profession\"}},\"yaxis\":{\"anchor\":\"x\",\"domain\":[0.0,1.0],\"title\":{\"text\":\"Work Experience\"}},\"legend\":{\"title\":{\"text\":\"Gender\"},\"tracegroupgap\":0},\"margin\":{\"t\":60},\"barmode\":\"relative\"},                        {\"responsive\": true}                    ).then(function(){\n",
              "                            \n",
              "var gd = document.getElementById('edaf44c5-b5a8-483e-8a59-e565dca8ac43');\n",
              "var x = new MutationObserver(function (mutations, observer) {{\n",
              "        var display = window.getComputedStyle(gd).display;\n",
              "        if (!display || display === 'none') {{\n",
              "            console.log([gd, 'removed!']);\n",
              "            Plotly.purge(gd);\n",
              "            observer.disconnect();\n",
              "        }}\n",
              "}});\n",
              "\n",
              "// Listen for the removal of the full notebook cells\n",
              "var notebookContainer = gd.closest('#notebook-container');\n",
              "if (notebookContainer) {{\n",
              "    x.observe(notebookContainer, {childList: true});\n",
              "}}\n",
              "\n",
              "// Listen for the clearing of the current output cell\n",
              "var outputEl = gd.closest('.output');\n",
              "if (outputEl) {{\n",
              "    x.observe(outputEl, {childList: true});\n",
              "}}\n",
              "\n",
              "                        })                };                            </script>        </div>\n",
              "</body>\n",
              "</html>"
            ]
          },
          "metadata": {}
        }
      ]
    },
    {
      "cell_type": "code",
      "source": [
        "data_workder_by_gender=data_worker[[\"Gender\",\"Profession\"]].value_counts().reset_index()\n",
        "data_workder_by_gender.rename(columns={\"Gender\": \"Gender\", \"Proffesion\": \"Profession\",0:\"Total\"},inplace=True)"
      ],
      "metadata": {
        "id": "aJ-oXp3An5Ij"
      },
      "execution_count": 245,
      "outputs": []
    },
    {
      "cell_type": "code",
      "source": [
        "data_workder_by_gender"
      ],
      "metadata": {
        "colab": {
          "base_uri": "https://localhost:8080/",
          "height": 613
        },
        "id": "9UYmidyfo_tW",
        "outputId": "46c97258-100c-4415-a3a5-15b895db8e6b"
      },
      "execution_count": 246,
      "outputs": [
        {
          "output_type": "execute_result",
          "data": {
            "text/plain": [
              "    Gender     Profession  Total\n",
              "0   Female         Artist    380\n",
              "1     Male         Artist    232\n",
              "2   Female     Healthcare    196\n",
              "3     Male     Healthcare    143\n",
              "4   Female  Entertainment    133\n",
              "5   Female       Engineer    103\n",
              "6     Male  Entertainment    101\n",
              "7   Female         Doctor     89\n",
              "8   Female      Executive     87\n",
              "9   Female         Lawyer     86\n",
              "10    Male       Engineer     76\n",
              "11    Male         Doctor     72\n",
              "12    Male      Executive     66\n",
              "13    Male         Lawyer     56\n",
              "14  Female      Marketing     53\n",
              "15  Female      Homemaker     39\n",
              "16    Male      Marketing     32\n",
              "17    Male      Homemaker     21"
            ],
            "text/html": [
              "\n",
              "  <div id=\"df-bf38b045-b030-4cd5-aa7e-7dd7d1507f32\">\n",
              "    <div class=\"colab-df-container\">\n",
              "      <div>\n",
              "<style scoped>\n",
              "    .dataframe tbody tr th:only-of-type {\n",
              "        vertical-align: middle;\n",
              "    }\n",
              "\n",
              "    .dataframe tbody tr th {\n",
              "        vertical-align: top;\n",
              "    }\n",
              "\n",
              "    .dataframe thead th {\n",
              "        text-align: right;\n",
              "    }\n",
              "</style>\n",
              "<table border=\"1\" class=\"dataframe\">\n",
              "  <thead>\n",
              "    <tr style=\"text-align: right;\">\n",
              "      <th></th>\n",
              "      <th>Gender</th>\n",
              "      <th>Profession</th>\n",
              "      <th>Total</th>\n",
              "    </tr>\n",
              "  </thead>\n",
              "  <tbody>\n",
              "    <tr>\n",
              "      <th>0</th>\n",
              "      <td>Female</td>\n",
              "      <td>Artist</td>\n",
              "      <td>380</td>\n",
              "    </tr>\n",
              "    <tr>\n",
              "      <th>1</th>\n",
              "      <td>Male</td>\n",
              "      <td>Artist</td>\n",
              "      <td>232</td>\n",
              "    </tr>\n",
              "    <tr>\n",
              "      <th>2</th>\n",
              "      <td>Female</td>\n",
              "      <td>Healthcare</td>\n",
              "      <td>196</td>\n",
              "    </tr>\n",
              "    <tr>\n",
              "      <th>3</th>\n",
              "      <td>Male</td>\n",
              "      <td>Healthcare</td>\n",
              "      <td>143</td>\n",
              "    </tr>\n",
              "    <tr>\n",
              "      <th>4</th>\n",
              "      <td>Female</td>\n",
              "      <td>Entertainment</td>\n",
              "      <td>133</td>\n",
              "    </tr>\n",
              "    <tr>\n",
              "      <th>5</th>\n",
              "      <td>Female</td>\n",
              "      <td>Engineer</td>\n",
              "      <td>103</td>\n",
              "    </tr>\n",
              "    <tr>\n",
              "      <th>6</th>\n",
              "      <td>Male</td>\n",
              "      <td>Entertainment</td>\n",
              "      <td>101</td>\n",
              "    </tr>\n",
              "    <tr>\n",
              "      <th>7</th>\n",
              "      <td>Female</td>\n",
              "      <td>Doctor</td>\n",
              "      <td>89</td>\n",
              "    </tr>\n",
              "    <tr>\n",
              "      <th>8</th>\n",
              "      <td>Female</td>\n",
              "      <td>Executive</td>\n",
              "      <td>87</td>\n",
              "    </tr>\n",
              "    <tr>\n",
              "      <th>9</th>\n",
              "      <td>Female</td>\n",
              "      <td>Lawyer</td>\n",
              "      <td>86</td>\n",
              "    </tr>\n",
              "    <tr>\n",
              "      <th>10</th>\n",
              "      <td>Male</td>\n",
              "      <td>Engineer</td>\n",
              "      <td>76</td>\n",
              "    </tr>\n",
              "    <tr>\n",
              "      <th>11</th>\n",
              "      <td>Male</td>\n",
              "      <td>Doctor</td>\n",
              "      <td>72</td>\n",
              "    </tr>\n",
              "    <tr>\n",
              "      <th>12</th>\n",
              "      <td>Male</td>\n",
              "      <td>Executive</td>\n",
              "      <td>66</td>\n",
              "    </tr>\n",
              "    <tr>\n",
              "      <th>13</th>\n",
              "      <td>Male</td>\n",
              "      <td>Lawyer</td>\n",
              "      <td>56</td>\n",
              "    </tr>\n",
              "    <tr>\n",
              "      <th>14</th>\n",
              "      <td>Female</td>\n",
              "      <td>Marketing</td>\n",
              "      <td>53</td>\n",
              "    </tr>\n",
              "    <tr>\n",
              "      <th>15</th>\n",
              "      <td>Female</td>\n",
              "      <td>Homemaker</td>\n",
              "      <td>39</td>\n",
              "    </tr>\n",
              "    <tr>\n",
              "      <th>16</th>\n",
              "      <td>Male</td>\n",
              "      <td>Marketing</td>\n",
              "      <td>32</td>\n",
              "    </tr>\n",
              "    <tr>\n",
              "      <th>17</th>\n",
              "      <td>Male</td>\n",
              "      <td>Homemaker</td>\n",
              "      <td>21</td>\n",
              "    </tr>\n",
              "  </tbody>\n",
              "</table>\n",
              "</div>\n",
              "      <button class=\"colab-df-convert\" onclick=\"convertToInteractive('df-bf38b045-b030-4cd5-aa7e-7dd7d1507f32')\"\n",
              "              title=\"Convert this dataframe to an interactive table.\"\n",
              "              style=\"display:none;\">\n",
              "        \n",
              "  <svg xmlns=\"http://www.w3.org/2000/svg\" height=\"24px\"viewBox=\"0 0 24 24\"\n",
              "       width=\"24px\">\n",
              "    <path d=\"M0 0h24v24H0V0z\" fill=\"none\"/>\n",
              "    <path d=\"M18.56 5.44l.94 2.06.94-2.06 2.06-.94-2.06-.94-.94-2.06-.94 2.06-2.06.94zm-11 1L8.5 8.5l.94-2.06 2.06-.94-2.06-.94L8.5 2.5l-.94 2.06-2.06.94zm10 10l.94 2.06.94-2.06 2.06-.94-2.06-.94-.94-2.06-.94 2.06-2.06.94z\"/><path d=\"M17.41 7.96l-1.37-1.37c-.4-.4-.92-.59-1.43-.59-.52 0-1.04.2-1.43.59L10.3 9.45l-7.72 7.72c-.78.78-.78 2.05 0 2.83L4 21.41c.39.39.9.59 1.41.59.51 0 1.02-.2 1.41-.59l7.78-7.78 2.81-2.81c.8-.78.8-2.07 0-2.86zM5.41 20L4 18.59l7.72-7.72 1.47 1.35L5.41 20z\"/>\n",
              "  </svg>\n",
              "      </button>\n",
              "      \n",
              "  <style>\n",
              "    .colab-df-container {\n",
              "      display:flex;\n",
              "      flex-wrap:wrap;\n",
              "      gap: 12px;\n",
              "    }\n",
              "\n",
              "    .colab-df-convert {\n",
              "      background-color: #E8F0FE;\n",
              "      border: none;\n",
              "      border-radius: 50%;\n",
              "      cursor: pointer;\n",
              "      display: none;\n",
              "      fill: #1967D2;\n",
              "      height: 32px;\n",
              "      padding: 0 0 0 0;\n",
              "      width: 32px;\n",
              "    }\n",
              "\n",
              "    .colab-df-convert:hover {\n",
              "      background-color: #E2EBFA;\n",
              "      box-shadow: 0px 1px 2px rgba(60, 64, 67, 0.3), 0px 1px 3px 1px rgba(60, 64, 67, 0.15);\n",
              "      fill: #174EA6;\n",
              "    }\n",
              "\n",
              "    [theme=dark] .colab-df-convert {\n",
              "      background-color: #3B4455;\n",
              "      fill: #D2E3FC;\n",
              "    }\n",
              "\n",
              "    [theme=dark] .colab-df-convert:hover {\n",
              "      background-color: #434B5C;\n",
              "      box-shadow: 0px 1px 3px 1px rgba(0, 0, 0, 0.15);\n",
              "      filter: drop-shadow(0px 1px 2px rgba(0, 0, 0, 0.3));\n",
              "      fill: #FFFFFF;\n",
              "    }\n",
              "  </style>\n",
              "\n",
              "      <script>\n",
              "        const buttonEl =\n",
              "          document.querySelector('#df-bf38b045-b030-4cd5-aa7e-7dd7d1507f32 button.colab-df-convert');\n",
              "        buttonEl.style.display =\n",
              "          google.colab.kernel.accessAllowed ? 'block' : 'none';\n",
              "\n",
              "        async function convertToInteractive(key) {\n",
              "          const element = document.querySelector('#df-bf38b045-b030-4cd5-aa7e-7dd7d1507f32');\n",
              "          const dataTable =\n",
              "            await google.colab.kernel.invokeFunction('convertToInteractive',\n",
              "                                                     [key], {});\n",
              "          if (!dataTable) return;\n",
              "\n",
              "          const docLinkHtml = 'Like what you see? Visit the ' +\n",
              "            '<a target=\"_blank\" href=https://colab.research.google.com/notebooks/data_table.ipynb>data table notebook</a>'\n",
              "            + ' to learn more about interactive tables.';\n",
              "          element.innerHTML = '';\n",
              "          dataTable['output_type'] = 'display_data';\n",
              "          await google.colab.output.renderOutput(dataTable, element);\n",
              "          const docLink = document.createElement('div');\n",
              "          docLink.innerHTML = docLinkHtml;\n",
              "          element.appendChild(docLink);\n",
              "        }\n",
              "      </script>\n",
              "    </div>\n",
              "  </div>\n",
              "  "
            ]
          },
          "metadata": {},
          "execution_count": 246
        }
      ]
    },
    {
      "cell_type": "markdown",
      "source": [
        "* Artist most favorite profession in Male and Female\n",
        "* Homemaker lower or not favorite in gender Female "
      ],
      "metadata": {
        "id": "61jV3tHEou85"
      }
    },
    {
      "cell_type": "code",
      "source": [
        "data_customer.describe(include='object')"
      ],
      "metadata": {
        "colab": {
          "base_uri": "https://localhost:8080/",
          "height": 175
        },
        "id": "k0umDDqT5Pat",
        "outputId": "85578018-3f33-4711-fe6e-f60078689581"
      },
      "execution_count": 247,
      "outputs": [
        {
          "output_type": "execute_result",
          "data": {
            "text/plain": [
              "        Gender Profession\n",
              "count     1965       1965\n",
              "unique       2          9\n",
              "top     Female     Artist\n",
              "freq      1166        612"
            ],
            "text/html": [
              "\n",
              "  <div id=\"df-75be1045-765c-4718-bf0d-7f1b39f29333\">\n",
              "    <div class=\"colab-df-container\">\n",
              "      <div>\n",
              "<style scoped>\n",
              "    .dataframe tbody tr th:only-of-type {\n",
              "        vertical-align: middle;\n",
              "    }\n",
              "\n",
              "    .dataframe tbody tr th {\n",
              "        vertical-align: top;\n",
              "    }\n",
              "\n",
              "    .dataframe thead th {\n",
              "        text-align: right;\n",
              "    }\n",
              "</style>\n",
              "<table border=\"1\" class=\"dataframe\">\n",
              "  <thead>\n",
              "    <tr style=\"text-align: right;\">\n",
              "      <th></th>\n",
              "      <th>Gender</th>\n",
              "      <th>Profession</th>\n",
              "    </tr>\n",
              "  </thead>\n",
              "  <tbody>\n",
              "    <tr>\n",
              "      <th>count</th>\n",
              "      <td>1965</td>\n",
              "      <td>1965</td>\n",
              "    </tr>\n",
              "    <tr>\n",
              "      <th>unique</th>\n",
              "      <td>2</td>\n",
              "      <td>9</td>\n",
              "    </tr>\n",
              "    <tr>\n",
              "      <th>top</th>\n",
              "      <td>Female</td>\n",
              "      <td>Artist</td>\n",
              "    </tr>\n",
              "    <tr>\n",
              "      <th>freq</th>\n",
              "      <td>1166</td>\n",
              "      <td>612</td>\n",
              "    </tr>\n",
              "  </tbody>\n",
              "</table>\n",
              "</div>\n",
              "      <button class=\"colab-df-convert\" onclick=\"convertToInteractive('df-75be1045-765c-4718-bf0d-7f1b39f29333')\"\n",
              "              title=\"Convert this dataframe to an interactive table.\"\n",
              "              style=\"display:none;\">\n",
              "        \n",
              "  <svg xmlns=\"http://www.w3.org/2000/svg\" height=\"24px\"viewBox=\"0 0 24 24\"\n",
              "       width=\"24px\">\n",
              "    <path d=\"M0 0h24v24H0V0z\" fill=\"none\"/>\n",
              "    <path d=\"M18.56 5.44l.94 2.06.94-2.06 2.06-.94-2.06-.94-.94-2.06-.94 2.06-2.06.94zm-11 1L8.5 8.5l.94-2.06 2.06-.94-2.06-.94L8.5 2.5l-.94 2.06-2.06.94zm10 10l.94 2.06.94-2.06 2.06-.94-2.06-.94-.94-2.06-.94 2.06-2.06.94z\"/><path d=\"M17.41 7.96l-1.37-1.37c-.4-.4-.92-.59-1.43-.59-.52 0-1.04.2-1.43.59L10.3 9.45l-7.72 7.72c-.78.78-.78 2.05 0 2.83L4 21.41c.39.39.9.59 1.41.59.51 0 1.02-.2 1.41-.59l7.78-7.78 2.81-2.81c.8-.78.8-2.07 0-2.86zM5.41 20L4 18.59l7.72-7.72 1.47 1.35L5.41 20z\"/>\n",
              "  </svg>\n",
              "      </button>\n",
              "      \n",
              "  <style>\n",
              "    .colab-df-container {\n",
              "      display:flex;\n",
              "      flex-wrap:wrap;\n",
              "      gap: 12px;\n",
              "    }\n",
              "\n",
              "    .colab-df-convert {\n",
              "      background-color: #E8F0FE;\n",
              "      border: none;\n",
              "      border-radius: 50%;\n",
              "      cursor: pointer;\n",
              "      display: none;\n",
              "      fill: #1967D2;\n",
              "      height: 32px;\n",
              "      padding: 0 0 0 0;\n",
              "      width: 32px;\n",
              "    }\n",
              "\n",
              "    .colab-df-convert:hover {\n",
              "      background-color: #E2EBFA;\n",
              "      box-shadow: 0px 1px 2px rgba(60, 64, 67, 0.3), 0px 1px 3px 1px rgba(60, 64, 67, 0.15);\n",
              "      fill: #174EA6;\n",
              "    }\n",
              "\n",
              "    [theme=dark] .colab-df-convert {\n",
              "      background-color: #3B4455;\n",
              "      fill: #D2E3FC;\n",
              "    }\n",
              "\n",
              "    [theme=dark] .colab-df-convert:hover {\n",
              "      background-color: #434B5C;\n",
              "      box-shadow: 0px 1px 3px 1px rgba(0, 0, 0, 0.15);\n",
              "      filter: drop-shadow(0px 1px 2px rgba(0, 0, 0, 0.3));\n",
              "      fill: #FFFFFF;\n",
              "    }\n",
              "  </style>\n",
              "\n",
              "      <script>\n",
              "        const buttonEl =\n",
              "          document.querySelector('#df-75be1045-765c-4718-bf0d-7f1b39f29333 button.colab-df-convert');\n",
              "        buttonEl.style.display =\n",
              "          google.colab.kernel.accessAllowed ? 'block' : 'none';\n",
              "\n",
              "        async function convertToInteractive(key) {\n",
              "          const element = document.querySelector('#df-75be1045-765c-4718-bf0d-7f1b39f29333');\n",
              "          const dataTable =\n",
              "            await google.colab.kernel.invokeFunction('convertToInteractive',\n",
              "                                                     [key], {});\n",
              "          if (!dataTable) return;\n",
              "\n",
              "          const docLinkHtml = 'Like what you see? Visit the ' +\n",
              "            '<a target=\"_blank\" href=https://colab.research.google.com/notebooks/data_table.ipynb>data table notebook</a>'\n",
              "            + ' to learn more about interactive tables.';\n",
              "          element.innerHTML = '';\n",
              "          dataTable['output_type'] = 'display_data';\n",
              "          await google.colab.output.renderOutput(dataTable, element);\n",
              "          const docLink = document.createElement('div');\n",
              "          docLink.innerHTML = docLinkHtml;\n",
              "          element.appendChild(docLink);\n",
              "        }\n",
              "      </script>\n",
              "    </div>\n",
              "  </div>\n",
              "  "
            ]
          },
          "metadata": {},
          "execution_count": 247
        }
      ]
    },
    {
      "cell_type": "code",
      "source": [
        "data_customer.describe()"
      ],
      "metadata": {
        "colab": {
          "base_uri": "https://localhost:8080/",
          "height": 300
        },
        "id": "I9BnZIOt5fSL",
        "outputId": "96ba92dc-ce89-4805-835a-3299bbfae664"
      },
      "execution_count": 248,
      "outputs": [
        {
          "output_type": "execute_result",
          "data": {
            "text/plain": [
              "        CustomerID          Age  Annual Income ($)  Spending Score (1-100)  \\\n",
              "count  1965.000000  1965.000000        1965.000000             1965.000000   \n",
              "mean   1000.309924    48.894656      110616.009669               51.078880   \n",
              "std     578.443714    28.414889       45833.860195               27.977176   \n",
              "min       1.000000     0.000000           0.000000                0.000000   \n",
              "25%     498.000000    25.000000       74350.000000               28.000000   \n",
              "50%    1000.000000    48.000000      109759.000000               50.000000   \n",
              "75%    1502.000000    73.000000      149095.000000               75.000000   \n",
              "max    2000.000000    99.000000      189974.000000              100.000000   \n",
              "\n",
              "       Work Experience  Family Size  \n",
              "count      1965.000000  1965.000000  \n",
              "mean          4.092621     3.757252  \n",
              "std           3.926459     1.968335  \n",
              "min           0.000000     1.000000  \n",
              "25%           1.000000     2.000000  \n",
              "50%           3.000000     4.000000  \n",
              "75%           7.000000     5.000000  \n",
              "max          17.000000     9.000000  "
            ],
            "text/html": [
              "\n",
              "  <div id=\"df-87f890ef-c08c-4cee-866d-7bac224e0d4f\">\n",
              "    <div class=\"colab-df-container\">\n",
              "      <div>\n",
              "<style scoped>\n",
              "    .dataframe tbody tr th:only-of-type {\n",
              "        vertical-align: middle;\n",
              "    }\n",
              "\n",
              "    .dataframe tbody tr th {\n",
              "        vertical-align: top;\n",
              "    }\n",
              "\n",
              "    .dataframe thead th {\n",
              "        text-align: right;\n",
              "    }\n",
              "</style>\n",
              "<table border=\"1\" class=\"dataframe\">\n",
              "  <thead>\n",
              "    <tr style=\"text-align: right;\">\n",
              "      <th></th>\n",
              "      <th>CustomerID</th>\n",
              "      <th>Age</th>\n",
              "      <th>Annual Income ($)</th>\n",
              "      <th>Spending Score (1-100)</th>\n",
              "      <th>Work Experience</th>\n",
              "      <th>Family Size</th>\n",
              "    </tr>\n",
              "  </thead>\n",
              "  <tbody>\n",
              "    <tr>\n",
              "      <th>count</th>\n",
              "      <td>1965.000000</td>\n",
              "      <td>1965.000000</td>\n",
              "      <td>1965.000000</td>\n",
              "      <td>1965.000000</td>\n",
              "      <td>1965.000000</td>\n",
              "      <td>1965.000000</td>\n",
              "    </tr>\n",
              "    <tr>\n",
              "      <th>mean</th>\n",
              "      <td>1000.309924</td>\n",
              "      <td>48.894656</td>\n",
              "      <td>110616.009669</td>\n",
              "      <td>51.078880</td>\n",
              "      <td>4.092621</td>\n",
              "      <td>3.757252</td>\n",
              "    </tr>\n",
              "    <tr>\n",
              "      <th>std</th>\n",
              "      <td>578.443714</td>\n",
              "      <td>28.414889</td>\n",
              "      <td>45833.860195</td>\n",
              "      <td>27.977176</td>\n",
              "      <td>3.926459</td>\n",
              "      <td>1.968335</td>\n",
              "    </tr>\n",
              "    <tr>\n",
              "      <th>min</th>\n",
              "      <td>1.000000</td>\n",
              "      <td>0.000000</td>\n",
              "      <td>0.000000</td>\n",
              "      <td>0.000000</td>\n",
              "      <td>0.000000</td>\n",
              "      <td>1.000000</td>\n",
              "    </tr>\n",
              "    <tr>\n",
              "      <th>25%</th>\n",
              "      <td>498.000000</td>\n",
              "      <td>25.000000</td>\n",
              "      <td>74350.000000</td>\n",
              "      <td>28.000000</td>\n",
              "      <td>1.000000</td>\n",
              "      <td>2.000000</td>\n",
              "    </tr>\n",
              "    <tr>\n",
              "      <th>50%</th>\n",
              "      <td>1000.000000</td>\n",
              "      <td>48.000000</td>\n",
              "      <td>109759.000000</td>\n",
              "      <td>50.000000</td>\n",
              "      <td>3.000000</td>\n",
              "      <td>4.000000</td>\n",
              "    </tr>\n",
              "    <tr>\n",
              "      <th>75%</th>\n",
              "      <td>1502.000000</td>\n",
              "      <td>73.000000</td>\n",
              "      <td>149095.000000</td>\n",
              "      <td>75.000000</td>\n",
              "      <td>7.000000</td>\n",
              "      <td>5.000000</td>\n",
              "    </tr>\n",
              "    <tr>\n",
              "      <th>max</th>\n",
              "      <td>2000.000000</td>\n",
              "      <td>99.000000</td>\n",
              "      <td>189974.000000</td>\n",
              "      <td>100.000000</td>\n",
              "      <td>17.000000</td>\n",
              "      <td>9.000000</td>\n",
              "    </tr>\n",
              "  </tbody>\n",
              "</table>\n",
              "</div>\n",
              "      <button class=\"colab-df-convert\" onclick=\"convertToInteractive('df-87f890ef-c08c-4cee-866d-7bac224e0d4f')\"\n",
              "              title=\"Convert this dataframe to an interactive table.\"\n",
              "              style=\"display:none;\">\n",
              "        \n",
              "  <svg xmlns=\"http://www.w3.org/2000/svg\" height=\"24px\"viewBox=\"0 0 24 24\"\n",
              "       width=\"24px\">\n",
              "    <path d=\"M0 0h24v24H0V0z\" fill=\"none\"/>\n",
              "    <path d=\"M18.56 5.44l.94 2.06.94-2.06 2.06-.94-2.06-.94-.94-2.06-.94 2.06-2.06.94zm-11 1L8.5 8.5l.94-2.06 2.06-.94-2.06-.94L8.5 2.5l-.94 2.06-2.06.94zm10 10l.94 2.06.94-2.06 2.06-.94-2.06-.94-.94-2.06-.94 2.06-2.06.94z\"/><path d=\"M17.41 7.96l-1.37-1.37c-.4-.4-.92-.59-1.43-.59-.52 0-1.04.2-1.43.59L10.3 9.45l-7.72 7.72c-.78.78-.78 2.05 0 2.83L4 21.41c.39.39.9.59 1.41.59.51 0 1.02-.2 1.41-.59l7.78-7.78 2.81-2.81c.8-.78.8-2.07 0-2.86zM5.41 20L4 18.59l7.72-7.72 1.47 1.35L5.41 20z\"/>\n",
              "  </svg>\n",
              "      </button>\n",
              "      \n",
              "  <style>\n",
              "    .colab-df-container {\n",
              "      display:flex;\n",
              "      flex-wrap:wrap;\n",
              "      gap: 12px;\n",
              "    }\n",
              "\n",
              "    .colab-df-convert {\n",
              "      background-color: #E8F0FE;\n",
              "      border: none;\n",
              "      border-radius: 50%;\n",
              "      cursor: pointer;\n",
              "      display: none;\n",
              "      fill: #1967D2;\n",
              "      height: 32px;\n",
              "      padding: 0 0 0 0;\n",
              "      width: 32px;\n",
              "    }\n",
              "\n",
              "    .colab-df-convert:hover {\n",
              "      background-color: #E2EBFA;\n",
              "      box-shadow: 0px 1px 2px rgba(60, 64, 67, 0.3), 0px 1px 3px 1px rgba(60, 64, 67, 0.15);\n",
              "      fill: #174EA6;\n",
              "    }\n",
              "\n",
              "    [theme=dark] .colab-df-convert {\n",
              "      background-color: #3B4455;\n",
              "      fill: #D2E3FC;\n",
              "    }\n",
              "\n",
              "    [theme=dark] .colab-df-convert:hover {\n",
              "      background-color: #434B5C;\n",
              "      box-shadow: 0px 1px 3px 1px rgba(0, 0, 0, 0.15);\n",
              "      filter: drop-shadow(0px 1px 2px rgba(0, 0, 0, 0.3));\n",
              "      fill: #FFFFFF;\n",
              "    }\n",
              "  </style>\n",
              "\n",
              "      <script>\n",
              "        const buttonEl =\n",
              "          document.querySelector('#df-87f890ef-c08c-4cee-866d-7bac224e0d4f button.colab-df-convert');\n",
              "        buttonEl.style.display =\n",
              "          google.colab.kernel.accessAllowed ? 'block' : 'none';\n",
              "\n",
              "        async function convertToInteractive(key) {\n",
              "          const element = document.querySelector('#df-87f890ef-c08c-4cee-866d-7bac224e0d4f');\n",
              "          const dataTable =\n",
              "            await google.colab.kernel.invokeFunction('convertToInteractive',\n",
              "                                                     [key], {});\n",
              "          if (!dataTable) return;\n",
              "\n",
              "          const docLinkHtml = 'Like what you see? Visit the ' +\n",
              "            '<a target=\"_blank\" href=https://colab.research.google.com/notebooks/data_table.ipynb>data table notebook</a>'\n",
              "            + ' to learn more about interactive tables.';\n",
              "          element.innerHTML = '';\n",
              "          dataTable['output_type'] = 'display_data';\n",
              "          await google.colab.output.renderOutput(dataTable, element);\n",
              "          const docLink = document.createElement('div');\n",
              "          docLink.innerHTML = docLinkHtml;\n",
              "          element.appendChild(docLink);\n",
              "        }\n",
              "      </script>\n",
              "    </div>\n",
              "  </div>\n",
              "  "
            ]
          },
          "metadata": {},
          "execution_count": 248
        }
      ]
    },
    {
      "cell_type": "markdown",
      "source": [
        "## Data preprocessing"
      ],
      "metadata": {
        "id": "V1x8s4cTCgHH"
      }
    },
    {
      "cell_type": "code",
      "source": [
        "data_customer.head()"
      ],
      "metadata": {
        "colab": {
          "base_uri": "https://localhost:8080/",
          "height": 206
        },
        "id": "wk2JSOIr-8wi",
        "outputId": "8720d2d3-9e8b-49ee-9321-53ad0a528739"
      },
      "execution_count": 249,
      "outputs": [
        {
          "output_type": "execute_result",
          "data": {
            "text/plain": [
              "   CustomerID  Gender  Age  Annual Income ($)  Spending Score (1-100)  \\\n",
              "0           1    Male   19              15000                      39   \n",
              "1           2    Male   21              35000                      81   \n",
              "2           3  Female   20              86000                       6   \n",
              "3           4  Female   23              59000                      77   \n",
              "4           5  Female   31              38000                      40   \n",
              "\n",
              "      Profession  Work Experience  Family Size  \n",
              "0     Healthcare                1            4  \n",
              "1       Engineer                3            3  \n",
              "2       Engineer                1            1  \n",
              "3         Lawyer                0            2  \n",
              "4  Entertainment                2            6  "
            ],
            "text/html": [
              "\n",
              "  <div id=\"df-69a0da4b-0967-441f-9381-664f8ee1e2e7\">\n",
              "    <div class=\"colab-df-container\">\n",
              "      <div>\n",
              "<style scoped>\n",
              "    .dataframe tbody tr th:only-of-type {\n",
              "        vertical-align: middle;\n",
              "    }\n",
              "\n",
              "    .dataframe tbody tr th {\n",
              "        vertical-align: top;\n",
              "    }\n",
              "\n",
              "    .dataframe thead th {\n",
              "        text-align: right;\n",
              "    }\n",
              "</style>\n",
              "<table border=\"1\" class=\"dataframe\">\n",
              "  <thead>\n",
              "    <tr style=\"text-align: right;\">\n",
              "      <th></th>\n",
              "      <th>CustomerID</th>\n",
              "      <th>Gender</th>\n",
              "      <th>Age</th>\n",
              "      <th>Annual Income ($)</th>\n",
              "      <th>Spending Score (1-100)</th>\n",
              "      <th>Profession</th>\n",
              "      <th>Work Experience</th>\n",
              "      <th>Family Size</th>\n",
              "    </tr>\n",
              "  </thead>\n",
              "  <tbody>\n",
              "    <tr>\n",
              "      <th>0</th>\n",
              "      <td>1</td>\n",
              "      <td>Male</td>\n",
              "      <td>19</td>\n",
              "      <td>15000</td>\n",
              "      <td>39</td>\n",
              "      <td>Healthcare</td>\n",
              "      <td>1</td>\n",
              "      <td>4</td>\n",
              "    </tr>\n",
              "    <tr>\n",
              "      <th>1</th>\n",
              "      <td>2</td>\n",
              "      <td>Male</td>\n",
              "      <td>21</td>\n",
              "      <td>35000</td>\n",
              "      <td>81</td>\n",
              "      <td>Engineer</td>\n",
              "      <td>3</td>\n",
              "      <td>3</td>\n",
              "    </tr>\n",
              "    <tr>\n",
              "      <th>2</th>\n",
              "      <td>3</td>\n",
              "      <td>Female</td>\n",
              "      <td>20</td>\n",
              "      <td>86000</td>\n",
              "      <td>6</td>\n",
              "      <td>Engineer</td>\n",
              "      <td>1</td>\n",
              "      <td>1</td>\n",
              "    </tr>\n",
              "    <tr>\n",
              "      <th>3</th>\n",
              "      <td>4</td>\n",
              "      <td>Female</td>\n",
              "      <td>23</td>\n",
              "      <td>59000</td>\n",
              "      <td>77</td>\n",
              "      <td>Lawyer</td>\n",
              "      <td>0</td>\n",
              "      <td>2</td>\n",
              "    </tr>\n",
              "    <tr>\n",
              "      <th>4</th>\n",
              "      <td>5</td>\n",
              "      <td>Female</td>\n",
              "      <td>31</td>\n",
              "      <td>38000</td>\n",
              "      <td>40</td>\n",
              "      <td>Entertainment</td>\n",
              "      <td>2</td>\n",
              "      <td>6</td>\n",
              "    </tr>\n",
              "  </tbody>\n",
              "</table>\n",
              "</div>\n",
              "      <button class=\"colab-df-convert\" onclick=\"convertToInteractive('df-69a0da4b-0967-441f-9381-664f8ee1e2e7')\"\n",
              "              title=\"Convert this dataframe to an interactive table.\"\n",
              "              style=\"display:none;\">\n",
              "        \n",
              "  <svg xmlns=\"http://www.w3.org/2000/svg\" height=\"24px\"viewBox=\"0 0 24 24\"\n",
              "       width=\"24px\">\n",
              "    <path d=\"M0 0h24v24H0V0z\" fill=\"none\"/>\n",
              "    <path d=\"M18.56 5.44l.94 2.06.94-2.06 2.06-.94-2.06-.94-.94-2.06-.94 2.06-2.06.94zm-11 1L8.5 8.5l.94-2.06 2.06-.94-2.06-.94L8.5 2.5l-.94 2.06-2.06.94zm10 10l.94 2.06.94-2.06 2.06-.94-2.06-.94-.94-2.06-.94 2.06-2.06.94z\"/><path d=\"M17.41 7.96l-1.37-1.37c-.4-.4-.92-.59-1.43-.59-.52 0-1.04.2-1.43.59L10.3 9.45l-7.72 7.72c-.78.78-.78 2.05 0 2.83L4 21.41c.39.39.9.59 1.41.59.51 0 1.02-.2 1.41-.59l7.78-7.78 2.81-2.81c.8-.78.8-2.07 0-2.86zM5.41 20L4 18.59l7.72-7.72 1.47 1.35L5.41 20z\"/>\n",
              "  </svg>\n",
              "      </button>\n",
              "      \n",
              "  <style>\n",
              "    .colab-df-container {\n",
              "      display:flex;\n",
              "      flex-wrap:wrap;\n",
              "      gap: 12px;\n",
              "    }\n",
              "\n",
              "    .colab-df-convert {\n",
              "      background-color: #E8F0FE;\n",
              "      border: none;\n",
              "      border-radius: 50%;\n",
              "      cursor: pointer;\n",
              "      display: none;\n",
              "      fill: #1967D2;\n",
              "      height: 32px;\n",
              "      padding: 0 0 0 0;\n",
              "      width: 32px;\n",
              "    }\n",
              "\n",
              "    .colab-df-convert:hover {\n",
              "      background-color: #E2EBFA;\n",
              "      box-shadow: 0px 1px 2px rgba(60, 64, 67, 0.3), 0px 1px 3px 1px rgba(60, 64, 67, 0.15);\n",
              "      fill: #174EA6;\n",
              "    }\n",
              "\n",
              "    [theme=dark] .colab-df-convert {\n",
              "      background-color: #3B4455;\n",
              "      fill: #D2E3FC;\n",
              "    }\n",
              "\n",
              "    [theme=dark] .colab-df-convert:hover {\n",
              "      background-color: #434B5C;\n",
              "      box-shadow: 0px 1px 3px 1px rgba(0, 0, 0, 0.15);\n",
              "      filter: drop-shadow(0px 1px 2px rgba(0, 0, 0, 0.3));\n",
              "      fill: #FFFFFF;\n",
              "    }\n",
              "  </style>\n",
              "\n",
              "      <script>\n",
              "        const buttonEl =\n",
              "          document.querySelector('#df-69a0da4b-0967-441f-9381-664f8ee1e2e7 button.colab-df-convert');\n",
              "        buttonEl.style.display =\n",
              "          google.colab.kernel.accessAllowed ? 'block' : 'none';\n",
              "\n",
              "        async function convertToInteractive(key) {\n",
              "          const element = document.querySelector('#df-69a0da4b-0967-441f-9381-664f8ee1e2e7');\n",
              "          const dataTable =\n",
              "            await google.colab.kernel.invokeFunction('convertToInteractive',\n",
              "                                                     [key], {});\n",
              "          if (!dataTable) return;\n",
              "\n",
              "          const docLinkHtml = 'Like what you see? Visit the ' +\n",
              "            '<a target=\"_blank\" href=https://colab.research.google.com/notebooks/data_table.ipynb>data table notebook</a>'\n",
              "            + ' to learn more about interactive tables.';\n",
              "          element.innerHTML = '';\n",
              "          dataTable['output_type'] = 'display_data';\n",
              "          await google.colab.output.renderOutput(dataTable, element);\n",
              "          const docLink = document.createElement('div');\n",
              "          docLink.innerHTML = docLinkHtml;\n",
              "          element.appendChild(docLink);\n",
              "        }\n",
              "      </script>\n",
              "    </div>\n",
              "  </div>\n",
              "  "
            ]
          },
          "metadata": {},
          "execution_count": 249
        }
      ]
    },
    {
      "cell_type": "markdown",
      "source": [
        "### One hot encoding"
      ],
      "metadata": {
        "id": "zNMC3sCHEavd"
      }
    },
    {
      "cell_type": "code",
      "source": [
        "data_preproc=pd.get_dummies(data_customer,\n",
        "                            columns=[\"Profession\"])"
      ],
      "metadata": {
        "id": "2qEbbsswCqFp"
      },
      "execution_count": 250,
      "outputs": []
    },
    {
      "cell_type": "code",
      "source": [
        "data_preproc.drop(columns=([\"CustomerID\"]),inplace=True)"
      ],
      "metadata": {
        "id": "xkUNs1BDE-UB"
      },
      "execution_count": 251,
      "outputs": []
    },
    {
      "cell_type": "code",
      "source": [
        "data_preproc"
      ],
      "metadata": {
        "colab": {
          "base_uri": "https://localhost:8080/",
          "height": 522
        },
        "id": "9_crVThQFJuI",
        "outputId": "4b45b694-faf4-4a2c-f612-162205d48153"
      },
      "execution_count": 252,
      "outputs": [
        {
          "output_type": "execute_result",
          "data": {
            "text/plain": [
              "      Gender  Age  Annual Income ($)  Spending Score (1-100)  Work Experience  \\\n",
              "0       Male   19              15000                      39                1   \n",
              "1       Male   21              35000                      81                3   \n",
              "2     Female   20              86000                       6                1   \n",
              "3     Female   23              59000                      77                0   \n",
              "4     Female   31              38000                      40                2   \n",
              "...      ...  ...                ...                     ...              ...   \n",
              "1995  Female   71             184387                      40                8   \n",
              "1996  Female   91              73158                      32                7   \n",
              "1997    Male   87              90961                      14                9   \n",
              "1998    Male   77             182109                       4                7   \n",
              "1999    Male   90             110610                      52                5   \n",
              "\n",
              "      Family Size  Profession_Artist  Profession_Doctor  Profession_Engineer  \\\n",
              "0               4                  0                  0                    0   \n",
              "1               3                  0                  0                    1   \n",
              "2               1                  0                  0                    1   \n",
              "3               2                  0                  0                    0   \n",
              "4               6                  0                  0                    0   \n",
              "...           ...                ...                ...                  ...   \n",
              "1995            7                  1                  0                    0   \n",
              "1996            7                  0                  1                    0   \n",
              "1997            2                  0                  0                    0   \n",
              "1998            2                  0                  0                    0   \n",
              "1999            2                  0                  0                    0   \n",
              "\n",
              "      Profession_Entertainment  Profession_Executive  Profession_Healthcare  \\\n",
              "0                            0                     0                      1   \n",
              "1                            0                     0                      0   \n",
              "2                            0                     0                      0   \n",
              "3                            0                     0                      0   \n",
              "4                            1                     0                      0   \n",
              "...                        ...                   ...                    ...   \n",
              "1995                         0                     0                      0   \n",
              "1996                         0                     0                      0   \n",
              "1997                         0                     0                      1   \n",
              "1998                         0                     1                      0   \n",
              "1999                         1                     0                      0   \n",
              "\n",
              "      Profession_Homemaker  Profession_Lawyer  Profession_Marketing  \n",
              "0                        0                  0                     0  \n",
              "1                        0                  0                     0  \n",
              "2                        0                  0                     0  \n",
              "3                        0                  1                     0  \n",
              "4                        0                  0                     0  \n",
              "...                    ...                ...                   ...  \n",
              "1995                     0                  0                     0  \n",
              "1996                     0                  0                     0  \n",
              "1997                     0                  0                     0  \n",
              "1998                     0                  0                     0  \n",
              "1999                     0                  0                     0  \n",
              "\n",
              "[1965 rows x 15 columns]"
            ],
            "text/html": [
              "\n",
              "  <div id=\"df-1927241d-1225-431d-8acd-855fc20986d2\">\n",
              "    <div class=\"colab-df-container\">\n",
              "      <div>\n",
              "<style scoped>\n",
              "    .dataframe tbody tr th:only-of-type {\n",
              "        vertical-align: middle;\n",
              "    }\n",
              "\n",
              "    .dataframe tbody tr th {\n",
              "        vertical-align: top;\n",
              "    }\n",
              "\n",
              "    .dataframe thead th {\n",
              "        text-align: right;\n",
              "    }\n",
              "</style>\n",
              "<table border=\"1\" class=\"dataframe\">\n",
              "  <thead>\n",
              "    <tr style=\"text-align: right;\">\n",
              "      <th></th>\n",
              "      <th>Gender</th>\n",
              "      <th>Age</th>\n",
              "      <th>Annual Income ($)</th>\n",
              "      <th>Spending Score (1-100)</th>\n",
              "      <th>Work Experience</th>\n",
              "      <th>Family Size</th>\n",
              "      <th>Profession_Artist</th>\n",
              "      <th>Profession_Doctor</th>\n",
              "      <th>Profession_Engineer</th>\n",
              "      <th>Profession_Entertainment</th>\n",
              "      <th>Profession_Executive</th>\n",
              "      <th>Profession_Healthcare</th>\n",
              "      <th>Profession_Homemaker</th>\n",
              "      <th>Profession_Lawyer</th>\n",
              "      <th>Profession_Marketing</th>\n",
              "    </tr>\n",
              "  </thead>\n",
              "  <tbody>\n",
              "    <tr>\n",
              "      <th>0</th>\n",
              "      <td>Male</td>\n",
              "      <td>19</td>\n",
              "      <td>15000</td>\n",
              "      <td>39</td>\n",
              "      <td>1</td>\n",
              "      <td>4</td>\n",
              "      <td>0</td>\n",
              "      <td>0</td>\n",
              "      <td>0</td>\n",
              "      <td>0</td>\n",
              "      <td>0</td>\n",
              "      <td>1</td>\n",
              "      <td>0</td>\n",
              "      <td>0</td>\n",
              "      <td>0</td>\n",
              "    </tr>\n",
              "    <tr>\n",
              "      <th>1</th>\n",
              "      <td>Male</td>\n",
              "      <td>21</td>\n",
              "      <td>35000</td>\n",
              "      <td>81</td>\n",
              "      <td>3</td>\n",
              "      <td>3</td>\n",
              "      <td>0</td>\n",
              "      <td>0</td>\n",
              "      <td>1</td>\n",
              "      <td>0</td>\n",
              "      <td>0</td>\n",
              "      <td>0</td>\n",
              "      <td>0</td>\n",
              "      <td>0</td>\n",
              "      <td>0</td>\n",
              "    </tr>\n",
              "    <tr>\n",
              "      <th>2</th>\n",
              "      <td>Female</td>\n",
              "      <td>20</td>\n",
              "      <td>86000</td>\n",
              "      <td>6</td>\n",
              "      <td>1</td>\n",
              "      <td>1</td>\n",
              "      <td>0</td>\n",
              "      <td>0</td>\n",
              "      <td>1</td>\n",
              "      <td>0</td>\n",
              "      <td>0</td>\n",
              "      <td>0</td>\n",
              "      <td>0</td>\n",
              "      <td>0</td>\n",
              "      <td>0</td>\n",
              "    </tr>\n",
              "    <tr>\n",
              "      <th>3</th>\n",
              "      <td>Female</td>\n",
              "      <td>23</td>\n",
              "      <td>59000</td>\n",
              "      <td>77</td>\n",
              "      <td>0</td>\n",
              "      <td>2</td>\n",
              "      <td>0</td>\n",
              "      <td>0</td>\n",
              "      <td>0</td>\n",
              "      <td>0</td>\n",
              "      <td>0</td>\n",
              "      <td>0</td>\n",
              "      <td>0</td>\n",
              "      <td>1</td>\n",
              "      <td>0</td>\n",
              "    </tr>\n",
              "    <tr>\n",
              "      <th>4</th>\n",
              "      <td>Female</td>\n",
              "      <td>31</td>\n",
              "      <td>38000</td>\n",
              "      <td>40</td>\n",
              "      <td>2</td>\n",
              "      <td>6</td>\n",
              "      <td>0</td>\n",
              "      <td>0</td>\n",
              "      <td>0</td>\n",
              "      <td>1</td>\n",
              "      <td>0</td>\n",
              "      <td>0</td>\n",
              "      <td>0</td>\n",
              "      <td>0</td>\n",
              "      <td>0</td>\n",
              "    </tr>\n",
              "    <tr>\n",
              "      <th>...</th>\n",
              "      <td>...</td>\n",
              "      <td>...</td>\n",
              "      <td>...</td>\n",
              "      <td>...</td>\n",
              "      <td>...</td>\n",
              "      <td>...</td>\n",
              "      <td>...</td>\n",
              "      <td>...</td>\n",
              "      <td>...</td>\n",
              "      <td>...</td>\n",
              "      <td>...</td>\n",
              "      <td>...</td>\n",
              "      <td>...</td>\n",
              "      <td>...</td>\n",
              "      <td>...</td>\n",
              "    </tr>\n",
              "    <tr>\n",
              "      <th>1995</th>\n",
              "      <td>Female</td>\n",
              "      <td>71</td>\n",
              "      <td>184387</td>\n",
              "      <td>40</td>\n",
              "      <td>8</td>\n",
              "      <td>7</td>\n",
              "      <td>1</td>\n",
              "      <td>0</td>\n",
              "      <td>0</td>\n",
              "      <td>0</td>\n",
              "      <td>0</td>\n",
              "      <td>0</td>\n",
              "      <td>0</td>\n",
              "      <td>0</td>\n",
              "      <td>0</td>\n",
              "    </tr>\n",
              "    <tr>\n",
              "      <th>1996</th>\n",
              "      <td>Female</td>\n",
              "      <td>91</td>\n",
              "      <td>73158</td>\n",
              "      <td>32</td>\n",
              "      <td>7</td>\n",
              "      <td>7</td>\n",
              "      <td>0</td>\n",
              "      <td>1</td>\n",
              "      <td>0</td>\n",
              "      <td>0</td>\n",
              "      <td>0</td>\n",
              "      <td>0</td>\n",
              "      <td>0</td>\n",
              "      <td>0</td>\n",
              "      <td>0</td>\n",
              "    </tr>\n",
              "    <tr>\n",
              "      <th>1997</th>\n",
              "      <td>Male</td>\n",
              "      <td>87</td>\n",
              "      <td>90961</td>\n",
              "      <td>14</td>\n",
              "      <td>9</td>\n",
              "      <td>2</td>\n",
              "      <td>0</td>\n",
              "      <td>0</td>\n",
              "      <td>0</td>\n",
              "      <td>0</td>\n",
              "      <td>0</td>\n",
              "      <td>1</td>\n",
              "      <td>0</td>\n",
              "      <td>0</td>\n",
              "      <td>0</td>\n",
              "    </tr>\n",
              "    <tr>\n",
              "      <th>1998</th>\n",
              "      <td>Male</td>\n",
              "      <td>77</td>\n",
              "      <td>182109</td>\n",
              "      <td>4</td>\n",
              "      <td>7</td>\n",
              "      <td>2</td>\n",
              "      <td>0</td>\n",
              "      <td>0</td>\n",
              "      <td>0</td>\n",
              "      <td>0</td>\n",
              "      <td>1</td>\n",
              "      <td>0</td>\n",
              "      <td>0</td>\n",
              "      <td>0</td>\n",
              "      <td>0</td>\n",
              "    </tr>\n",
              "    <tr>\n",
              "      <th>1999</th>\n",
              "      <td>Male</td>\n",
              "      <td>90</td>\n",
              "      <td>110610</td>\n",
              "      <td>52</td>\n",
              "      <td>5</td>\n",
              "      <td>2</td>\n",
              "      <td>0</td>\n",
              "      <td>0</td>\n",
              "      <td>0</td>\n",
              "      <td>1</td>\n",
              "      <td>0</td>\n",
              "      <td>0</td>\n",
              "      <td>0</td>\n",
              "      <td>0</td>\n",
              "      <td>0</td>\n",
              "    </tr>\n",
              "  </tbody>\n",
              "</table>\n",
              "<p>1965 rows × 15 columns</p>\n",
              "</div>\n",
              "      <button class=\"colab-df-convert\" onclick=\"convertToInteractive('df-1927241d-1225-431d-8acd-855fc20986d2')\"\n",
              "              title=\"Convert this dataframe to an interactive table.\"\n",
              "              style=\"display:none;\">\n",
              "        \n",
              "  <svg xmlns=\"http://www.w3.org/2000/svg\" height=\"24px\"viewBox=\"0 0 24 24\"\n",
              "       width=\"24px\">\n",
              "    <path d=\"M0 0h24v24H0V0z\" fill=\"none\"/>\n",
              "    <path d=\"M18.56 5.44l.94 2.06.94-2.06 2.06-.94-2.06-.94-.94-2.06-.94 2.06-2.06.94zm-11 1L8.5 8.5l.94-2.06 2.06-.94-2.06-.94L8.5 2.5l-.94 2.06-2.06.94zm10 10l.94 2.06.94-2.06 2.06-.94-2.06-.94-.94-2.06-.94 2.06-2.06.94z\"/><path d=\"M17.41 7.96l-1.37-1.37c-.4-.4-.92-.59-1.43-.59-.52 0-1.04.2-1.43.59L10.3 9.45l-7.72 7.72c-.78.78-.78 2.05 0 2.83L4 21.41c.39.39.9.59 1.41.59.51 0 1.02-.2 1.41-.59l7.78-7.78 2.81-2.81c.8-.78.8-2.07 0-2.86zM5.41 20L4 18.59l7.72-7.72 1.47 1.35L5.41 20z\"/>\n",
              "  </svg>\n",
              "      </button>\n",
              "      \n",
              "  <style>\n",
              "    .colab-df-container {\n",
              "      display:flex;\n",
              "      flex-wrap:wrap;\n",
              "      gap: 12px;\n",
              "    }\n",
              "\n",
              "    .colab-df-convert {\n",
              "      background-color: #E8F0FE;\n",
              "      border: none;\n",
              "      border-radius: 50%;\n",
              "      cursor: pointer;\n",
              "      display: none;\n",
              "      fill: #1967D2;\n",
              "      height: 32px;\n",
              "      padding: 0 0 0 0;\n",
              "      width: 32px;\n",
              "    }\n",
              "\n",
              "    .colab-df-convert:hover {\n",
              "      background-color: #E2EBFA;\n",
              "      box-shadow: 0px 1px 2px rgba(60, 64, 67, 0.3), 0px 1px 3px 1px rgba(60, 64, 67, 0.15);\n",
              "      fill: #174EA6;\n",
              "    }\n",
              "\n",
              "    [theme=dark] .colab-df-convert {\n",
              "      background-color: #3B4455;\n",
              "      fill: #D2E3FC;\n",
              "    }\n",
              "\n",
              "    [theme=dark] .colab-df-convert:hover {\n",
              "      background-color: #434B5C;\n",
              "      box-shadow: 0px 1px 3px 1px rgba(0, 0, 0, 0.15);\n",
              "      filter: drop-shadow(0px 1px 2px rgba(0, 0, 0, 0.3));\n",
              "      fill: #FFFFFF;\n",
              "    }\n",
              "  </style>\n",
              "\n",
              "      <script>\n",
              "        const buttonEl =\n",
              "          document.querySelector('#df-1927241d-1225-431d-8acd-855fc20986d2 button.colab-df-convert');\n",
              "        buttonEl.style.display =\n",
              "          google.colab.kernel.accessAllowed ? 'block' : 'none';\n",
              "\n",
              "        async function convertToInteractive(key) {\n",
              "          const element = document.querySelector('#df-1927241d-1225-431d-8acd-855fc20986d2');\n",
              "          const dataTable =\n",
              "            await google.colab.kernel.invokeFunction('convertToInteractive',\n",
              "                                                     [key], {});\n",
              "          if (!dataTable) return;\n",
              "\n",
              "          const docLinkHtml = 'Like what you see? Visit the ' +\n",
              "            '<a target=\"_blank\" href=https://colab.research.google.com/notebooks/data_table.ipynb>data table notebook</a>'\n",
              "            + ' to learn more about interactive tables.';\n",
              "          element.innerHTML = '';\n",
              "          dataTable['output_type'] = 'display_data';\n",
              "          await google.colab.output.renderOutput(dataTable, element);\n",
              "          const docLink = document.createElement('div');\n",
              "          docLink.innerHTML = docLinkHtml;\n",
              "          element.appendChild(docLink);\n",
              "        }\n",
              "      </script>\n",
              "    </div>\n",
              "  </div>\n",
              "  "
            ]
          },
          "metadata": {},
          "execution_count": 252
        }
      ]
    },
    {
      "cell_type": "markdown",
      "source": [
        "##Validation evaluation \n"
      ],
      "metadata": {
        "id": "kNWUSiubFnsS"
      }
    },
    {
      "cell_type": "markdown",
      "source": [
        "### Validation evalutaion \n",
        "* use model Decision Tree\n",
        "* for validation use RandomizedSearchCV"
      ],
      "metadata": {
        "id": "51YoPsH2GG5p"
      }
    },
    {
      "cell_type": "code",
      "source": [
        "from sklearn.model_selection import train_test_split"
      ],
      "metadata": {
        "id": "Jyl4aNdX4vYh"
      },
      "execution_count": 253,
      "outputs": []
    },
    {
      "cell_type": "code",
      "source": [
        "from sklearn.model_selection import RandomizedSearchCV\n",
        "from sklearn.tree import DecisionTreeClassifier"
      ],
      "metadata": {
        "id": "tARlQnu9FNBA"
      },
      "execution_count": 254,
      "outputs": []
    },
    {
      "cell_type": "markdown",
      "source": [
        "Before doing modelling \n",
        "* split data to data and target"
      ],
      "metadata": {
        "id": "QRhbXDq55lQZ"
      }
    },
    {
      "cell_type": "code",
      "source": [
        "data=data_preproc.drop(columns=([\"Gender\"]))\n",
        "target=data_preproc[\"Gender\"]"
      ],
      "metadata": {
        "id": "m3d-Dn0D0FYy"
      },
      "execution_count": 255,
      "outputs": []
    },
    {
      "cell_type": "markdown",
      "source": [
        "Split data to data use \n",
        "> train_test_split"
      ],
      "metadata": {
        "id": "b7SehGgB5r3j"
      }
    },
    {
      "cell_type": "code",
      "source": [
        "data_train, data_test, target_train, target_test = train_test_split(\n",
        "    data, target, random_state=42)"
      ],
      "metadata": {
        "id": "wbvVsqBJ46S_"
      },
      "execution_count": 256,
      "outputs": []
    },
    {
      "cell_type": "markdown",
      "source": [
        "Decision Tree have parameter because function code but in machine learning called hyperparameter"
      ],
      "metadata": {
        "id": "9js6BdAt55mu"
      }
    },
    {
      "cell_type": "markdown",
      "source": [
        "For paramemter use :\n",
        "* **criterion** is math functiion for classification in decision tree and we use 2 function `gini` and `entropy`\n",
        "* **max depth** is deep tree so experiment max depth 1 to 10 using `numpy` "
      ],
      "metadata": {
        "id": "rda0NSRX6G27"
      }
    },
    {
      "cell_type": "code",
      "source": [
        "model_tree=DecisionTreeClassifier()\n",
        "param_distribution={\n",
        "    \"criterion\":[\"gini\",\"entropy\"],\n",
        "    \"max_depth\":np.arange(start=1,\n",
        "                          stop=10,\n",
        "                          step=1)\n",
        "}\n",
        "validation_model_tree=RandomizedSearchCV(model_tree, \n",
        "                                         param_distributions=param_distribution, \n",
        "                                         n_iter=10,\n",
        "                                         cv=2, \n",
        "                                         verbose=1,\n",
        "                                         return_train_score=True\n",
        "                                          )"
      ],
      "metadata": {
        "id": "dQtB_S75GXRh"
      },
      "execution_count": 257,
      "outputs": []
    },
    {
      "cell_type": "code",
      "source": [
        "validation_model_tree.fit(data_train, target_train)"
      ],
      "metadata": {
        "colab": {
          "base_uri": "https://localhost:8080/"
        },
        "id": "T-ny61nB4Omn",
        "outputId": "e43e573f-eaa3-44fa-fb62-dcbe047ad47b"
      },
      "execution_count": 258,
      "outputs": [
        {
          "output_type": "stream",
          "name": "stdout",
          "text": [
            "Fitting 2 folds for each of 10 candidates, totalling 20 fits\n"
          ]
        },
        {
          "output_type": "execute_result",
          "data": {
            "text/plain": [
              "RandomizedSearchCV(cv=2, estimator=DecisionTreeClassifier(),\n",
              "                   param_distributions={'criterion': ['gini', 'entropy'],\n",
              "                                        'max_depth': array([1, 2, 3, 4, 5, 6, 7, 8, 9])},\n",
              "                   return_train_score=True, verbose=1)"
            ]
          },
          "metadata": {},
          "execution_count": 258
        }
      ]
    },
    {
      "cell_type": "code",
      "source": [
        "validation_model_tree.get_params()"
      ],
      "metadata": {
        "colab": {
          "base_uri": "https://localhost:8080/"
        },
        "id": "q3H_ZSuZ8pLM",
        "outputId": "972341b2-c763-4d89-f2e7-f96136f29755"
      },
      "execution_count": 259,
      "outputs": [
        {
          "output_type": "execute_result",
          "data": {
            "text/plain": [
              "{'cv': 2,\n",
              " 'error_score': nan,\n",
              " 'estimator__ccp_alpha': 0.0,\n",
              " 'estimator__class_weight': None,\n",
              " 'estimator__criterion': 'gini',\n",
              " 'estimator__max_depth': None,\n",
              " 'estimator__max_features': None,\n",
              " 'estimator__max_leaf_nodes': None,\n",
              " 'estimator__min_impurity_decrease': 0.0,\n",
              " 'estimator__min_samples_leaf': 1,\n",
              " 'estimator__min_samples_split': 2,\n",
              " 'estimator__min_weight_fraction_leaf': 0.0,\n",
              " 'estimator__random_state': None,\n",
              " 'estimator__splitter': 'best',\n",
              " 'estimator': DecisionTreeClassifier(),\n",
              " 'n_iter': 10,\n",
              " 'n_jobs': None,\n",
              " 'param_distributions': {'criterion': ['gini', 'entropy'],\n",
              "  'max_depth': array([1, 2, 3, 4, 5, 6, 7, 8, 9])},\n",
              " 'pre_dispatch': '2*n_jobs',\n",
              " 'random_state': None,\n",
              " 'refit': True,\n",
              " 'return_train_score': True,\n",
              " 'scoring': None,\n",
              " 'verbose': 1}"
            ]
          },
          "metadata": {},
          "execution_count": 259
        }
      ]
    },
    {
      "cell_type": "code",
      "source": [
        "accuracy = validation_model_tree.score(data_test, target_test)\n",
        "\n",
        "print(f\"The test accuracy score of the best model is \"\n",
        "      f\"{accuracy:.2f}\")"
      ],
      "metadata": {
        "colab": {
          "base_uri": "https://localhost:8080/"
        },
        "id": "n-PDdycH4SnX",
        "outputId": "901b4e5f-d6b0-49d9-8647-a2d268fd7dae"
      },
      "execution_count": 260,
      "outputs": [
        {
          "output_type": "stream",
          "name": "stdout",
          "text": [
            "The test accuracy score of the best model is 0.62\n"
          ]
        }
      ]
    },
    {
      "cell_type": "code",
      "source": [
        "from pprint import pprint\n",
        "print(\"The best parameters are:\")\n",
        "pprint(validation_model_tree.best_params_)"
      ],
      "metadata": {
        "colab": {
          "base_uri": "https://localhost:8080/"
        },
        "id": "xj4HHkKV5FBI",
        "outputId": "0b8d1dc6-b1b0-4153-d166-371af0427ca9"
      },
      "execution_count": 261,
      "outputs": [
        {
          "output_type": "stream",
          "name": "stdout",
          "text": [
            "The best parameters are:\n",
            "{'criterion': 'gini', 'max_depth': 1}\n"
          ]
        }
      ]
    },
    {
      "cell_type": "code",
      "source": [
        "validation_model_tree.best_params_.keys()"
      ],
      "metadata": {
        "colab": {
          "base_uri": "https://localhost:8080/"
        },
        "id": "n8D2jEgD7e5v",
        "outputId": "c3ef9560-b087-425b-9471-3321b76302e4"
      },
      "execution_count": 262,
      "outputs": [
        {
          "output_type": "execute_result",
          "data": {
            "text/plain": [
              "dict_keys(['max_depth', 'criterion'])"
            ]
          },
          "metadata": {},
          "execution_count": 262
        }
      ]
    },
    {
      "cell_type": "code",
      "source": [
        "search_best_parameter_use_decision_tree=pd.DataFrame({\n",
        "    \"acc\":[accuracy],\n",
        "    \"best_max_depth\":validation_model_tree.best_params_.get(\"max_depth\"),\n",
        "    \"best_criterion\":validation_model_tree.best_params_.get(\"criterion\"),\n",
        "\n",
        "})"
      ],
      "metadata": {
        "id": "rt_l7y_h7T9d"
      },
      "execution_count": 263,
      "outputs": []
    },
    {
      "cell_type": "code",
      "source": [
        "search_best_parameter_use_decision_tree"
      ],
      "metadata": {
        "colab": {
          "base_uri": "https://localhost:8080/",
          "height": 81
        },
        "id": "jajQ0NQ17Se4",
        "outputId": "faa61c74-9872-4e70-e08c-be6dd123fac4"
      },
      "execution_count": 264,
      "outputs": [
        {
          "output_type": "execute_result",
          "data": {
            "text/plain": [
              "        acc  best_max_depth best_criterion\n",
              "0  0.621951               1           gini"
            ],
            "text/html": [
              "\n",
              "  <div id=\"df-c1897bb8-2a94-4778-a7a8-c52c484afc7d\">\n",
              "    <div class=\"colab-df-container\">\n",
              "      <div>\n",
              "<style scoped>\n",
              "    .dataframe tbody tr th:only-of-type {\n",
              "        vertical-align: middle;\n",
              "    }\n",
              "\n",
              "    .dataframe tbody tr th {\n",
              "        vertical-align: top;\n",
              "    }\n",
              "\n",
              "    .dataframe thead th {\n",
              "        text-align: right;\n",
              "    }\n",
              "</style>\n",
              "<table border=\"1\" class=\"dataframe\">\n",
              "  <thead>\n",
              "    <tr style=\"text-align: right;\">\n",
              "      <th></th>\n",
              "      <th>acc</th>\n",
              "      <th>best_max_depth</th>\n",
              "      <th>best_criterion</th>\n",
              "    </tr>\n",
              "  </thead>\n",
              "  <tbody>\n",
              "    <tr>\n",
              "      <th>0</th>\n",
              "      <td>0.621951</td>\n",
              "      <td>1</td>\n",
              "      <td>gini</td>\n",
              "    </tr>\n",
              "  </tbody>\n",
              "</table>\n",
              "</div>\n",
              "      <button class=\"colab-df-convert\" onclick=\"convertToInteractive('df-c1897bb8-2a94-4778-a7a8-c52c484afc7d')\"\n",
              "              title=\"Convert this dataframe to an interactive table.\"\n",
              "              style=\"display:none;\">\n",
              "        \n",
              "  <svg xmlns=\"http://www.w3.org/2000/svg\" height=\"24px\"viewBox=\"0 0 24 24\"\n",
              "       width=\"24px\">\n",
              "    <path d=\"M0 0h24v24H0V0z\" fill=\"none\"/>\n",
              "    <path d=\"M18.56 5.44l.94 2.06.94-2.06 2.06-.94-2.06-.94-.94-2.06-.94 2.06-2.06.94zm-11 1L8.5 8.5l.94-2.06 2.06-.94-2.06-.94L8.5 2.5l-.94 2.06-2.06.94zm10 10l.94 2.06.94-2.06 2.06-.94-2.06-.94-.94-2.06-.94 2.06-2.06.94z\"/><path d=\"M17.41 7.96l-1.37-1.37c-.4-.4-.92-.59-1.43-.59-.52 0-1.04.2-1.43.59L10.3 9.45l-7.72 7.72c-.78.78-.78 2.05 0 2.83L4 21.41c.39.39.9.59 1.41.59.51 0 1.02-.2 1.41-.59l7.78-7.78 2.81-2.81c.8-.78.8-2.07 0-2.86zM5.41 20L4 18.59l7.72-7.72 1.47 1.35L5.41 20z\"/>\n",
              "  </svg>\n",
              "      </button>\n",
              "      \n",
              "  <style>\n",
              "    .colab-df-container {\n",
              "      display:flex;\n",
              "      flex-wrap:wrap;\n",
              "      gap: 12px;\n",
              "    }\n",
              "\n",
              "    .colab-df-convert {\n",
              "      background-color: #E8F0FE;\n",
              "      border: none;\n",
              "      border-radius: 50%;\n",
              "      cursor: pointer;\n",
              "      display: none;\n",
              "      fill: #1967D2;\n",
              "      height: 32px;\n",
              "      padding: 0 0 0 0;\n",
              "      width: 32px;\n",
              "    }\n",
              "\n",
              "    .colab-df-convert:hover {\n",
              "      background-color: #E2EBFA;\n",
              "      box-shadow: 0px 1px 2px rgba(60, 64, 67, 0.3), 0px 1px 3px 1px rgba(60, 64, 67, 0.15);\n",
              "      fill: #174EA6;\n",
              "    }\n",
              "\n",
              "    [theme=dark] .colab-df-convert {\n",
              "      background-color: #3B4455;\n",
              "      fill: #D2E3FC;\n",
              "    }\n",
              "\n",
              "    [theme=dark] .colab-df-convert:hover {\n",
              "      background-color: #434B5C;\n",
              "      box-shadow: 0px 1px 3px 1px rgba(0, 0, 0, 0.15);\n",
              "      filter: drop-shadow(0px 1px 2px rgba(0, 0, 0, 0.3));\n",
              "      fill: #FFFFFF;\n",
              "    }\n",
              "  </style>\n",
              "\n",
              "      <script>\n",
              "        const buttonEl =\n",
              "          document.querySelector('#df-c1897bb8-2a94-4778-a7a8-c52c484afc7d button.colab-df-convert');\n",
              "        buttonEl.style.display =\n",
              "          google.colab.kernel.accessAllowed ? 'block' : 'none';\n",
              "\n",
              "        async function convertToInteractive(key) {\n",
              "          const element = document.querySelector('#df-c1897bb8-2a94-4778-a7a8-c52c484afc7d');\n",
              "          const dataTable =\n",
              "            await google.colab.kernel.invokeFunction('convertToInteractive',\n",
              "                                                     [key], {});\n",
              "          if (!dataTable) return;\n",
              "\n",
              "          const docLinkHtml = 'Like what you see? Visit the ' +\n",
              "            '<a target=\"_blank\" href=https://colab.research.google.com/notebooks/data_table.ipynb>data table notebook</a>'\n",
              "            + ' to learn more about interactive tables.';\n",
              "          element.innerHTML = '';\n",
              "          dataTable['output_type'] = 'display_data';\n",
              "          await google.colab.output.renderOutput(dataTable, element);\n",
              "          const docLink = document.createElement('div');\n",
              "          docLink.innerHTML = docLinkHtml;\n",
              "          element.appendChild(docLink);\n",
              "        }\n",
              "      </script>\n",
              "    </div>\n",
              "  </div>\n",
              "  "
            ]
          },
          "metadata": {},
          "execution_count": 264
        }
      ]
    },
    {
      "cell_type": "markdown",
      "source": [
        "## Modeliing"
      ],
      "metadata": {
        "id": "IhGs3wy5-rf9"
      }
    },
    {
      "cell_type": "code",
      "source": [
        "tree = DecisionTreeClassifier(max_depth=1)\n",
        "tree.fit(data_train, target_train)"
      ],
      "metadata": {
        "colab": {
          "base_uri": "https://localhost:8080/"
        },
        "id": "E-BQbLiL9h_n",
        "outputId": "1b5e6517-e349-4be1-fcfa-445fff8b096c"
      },
      "execution_count": 265,
      "outputs": [
        {
          "output_type": "execute_result",
          "data": {
            "text/plain": [
              "DecisionTreeClassifier(max_depth=1)"
            ]
          },
          "metadata": {},
          "execution_count": 265
        }
      ]
    },
    {
      "cell_type": "code",
      "source": [
        "tree.feature_names_in_"
      ],
      "metadata": {
        "colab": {
          "base_uri": "https://localhost:8080/"
        },
        "id": "x-Gv_-mW94Ak",
        "outputId": "c5ad73a2-b9a2-4bec-ee55-e45a37346d63"
      },
      "execution_count": 266,
      "outputs": [
        {
          "output_type": "execute_result",
          "data": {
            "text/plain": [
              "array(['Age', 'Annual Income ($)', 'Spending Score (1-100)',\n",
              "       'Work Experience', 'Family Size', 'Profession_Artist',\n",
              "       'Profession_Doctor', 'Profession_Engineer',\n",
              "       'Profession_Entertainment', 'Profession_Executive',\n",
              "       'Profession_Healthcare', 'Profession_Homemaker',\n",
              "       'Profession_Lawyer', 'Profession_Marketing'], dtype=object)"
            ]
          },
          "metadata": {},
          "execution_count": 266
        }
      ]
    },
    {
      "cell_type": "code",
      "source": [
        "import matplotlib.pyplot as plt"
      ],
      "metadata": {
        "id": "DlPOjbSR9pCw"
      },
      "execution_count": 267,
      "outputs": []
    },
    {
      "cell_type": "code",
      "source": [
        "from sklearn.tree import plot_tree\n",
        "_, ax = plt.subplots(figsize=(8, 6))\n",
        "_ = plot_tree(tree, feature_names=tree.feature_names_in_,\n",
        "              class_names=tree.classes_, impurity=False, ax=ax)"
      ],
      "metadata": {
        "colab": {
          "base_uri": "https://localhost:8080/",
          "height": 357
        },
        "id": "e9sLeuEa9lfH",
        "outputId": "64f52441-c3fe-4218-9fdd-695edc025253"
      },
      "execution_count": 268,
      "outputs": [
        {
          "output_type": "display_data",
          "data": {
            "text/plain": [
              "<Figure size 576x432 with 1 Axes>"
            ],
            "image/png": "[encoded data removed]"
          },
          "metadata": {
            "needs_background": "light"
          }
        }
      ]
    },
    {
      "cell_type": "code",
      "source": [
        "predict=tree.predict(data_test)"
      ],
      "metadata": {
        "id": "BWvkzY8D-H6S"
      },
      "execution_count": 269,
      "outputs": []
    },
    {
      "cell_type": "markdown",
      "source": [
        "## Evaluation"
      ],
      "metadata": {
        "id": "ft_datn2-1AT"
      }
    },
    {
      "cell_type": "code",
      "source": [
        "from sklearn.metrics import accuracy_score, roc_auc_score,classification_report,roc_curve"
      ],
      "metadata": {
        "id": "EvQhyC0z-25V"
      },
      "execution_count": 270,
      "outputs": []
    },
    {
      "cell_type": "code",
      "source": [
        "pred=tree.predict(data_test)"
      ],
      "metadata": {
        "id": "xX8Hptknd06b"
      },
      "execution_count": 271,
      "outputs": []
    },
    {
      "cell_type": "code",
      "source": [
        "acc_score=accuracy_score(target_test,pred)"
      ],
      "metadata": {
        "id": "lbbsMaM7deRL"
      },
      "execution_count": 272,
      "outputs": []
    },
    {
      "cell_type": "code",
      "source": [
        "print(f'Accuracy score : {np.mean(acc_score):0.4f} ')"
      ],
      "metadata": {
        "colab": {
          "base_uri": "https://localhost:8080/"
        },
        "id": "xuL72UtFfASR",
        "outputId": "deeb5d5b-e46d-4781-fb93-236ab5fc560d"
      },
      "execution_count": 273,
      "outputs": [
        {
          "output_type": "stream",
          "name": "stdout",
          "text": [
            "Accuracy score : 0.6220 \n"
          ]
        }
      ]
    },
    {
      "cell_type": "code",
      "source": [
        "cls_report=classification_report(target_test,pred)"
      ],
      "metadata": {
        "id": "5ISbmVqqkTfy"
      },
      "execution_count": 278,
      "outputs": []
    },
    {
      "cell_type": "code",
      "source": [
        "print(cls_report)"
      ],
      "metadata": {
        "colab": {
          "base_uri": "https://localhost:8080/"
        },
        "id": "kA8f5LZckXXE",
        "outputId": "6a7de7d2-aaff-439e-d6d9-679e6efb79d7"
      },
      "execution_count": 282,
      "outputs": [
        {
          "output_type": "stream",
          "name": "stdout",
          "text": [
            "              precision    recall  f1-score   support\n",
            "\n",
            "      Female       0.62      0.99      0.76       304\n",
            "        Male       0.60      0.03      0.06       188\n",
            "\n",
            "    accuracy                           0.62       492\n",
            "   macro avg       0.61      0.51      0.41       492\n",
            "weighted avg       0.61      0.62      0.49       492\n",
            "\n"
          ]
        }
      ]
    },
    {
      "cell_type": "code",
      "source": [
        "from sklearn.metrics import confusion_matrix, ConfusionMatrixDisplay"
      ],
      "metadata": {
        "id": "D8hAAyE1mDoi"
      },
      "execution_count": 283,
      "outputs": []
    },
    {
      "cell_type": "code",
      "source": [
        "cm = confusion_matrix(target_test, pred, labels=tree.classes_)"
      ],
      "metadata": {
        "id": "M2M7qYX5mD1D"
      },
      "execution_count": 286,
      "outputs": []
    },
    {
      "cell_type": "code",
      "source": [
        "disp = ConfusionMatrixDisplay(confusion_matrix=cm,\n",
        "                               display_labels=tree.classes_)\n",
        "disp.plot()\n",
        "plt.show()"
      ],
      "metadata": {
        "colab": {
          "base_uri": "https://localhost:8080/",
          "height": 283
        },
        "id": "EyFOUceVmT8r",
        "outputId": "824efddc-3bd1-4a8b-d93d-a934c7c439cc"
      },
      "execution_count": 292,
      "outputs": [
        {
          "output_type": "display_data",
          "data": {
            "text/plain": [
              "<Figure size 432x288 with 2 Axes>"
            ],
            "image/png": "[encoded data removed]"
          },
          "metadata": {
            "needs_background": "light"
          }
        }
      ]
    }
  ]
}